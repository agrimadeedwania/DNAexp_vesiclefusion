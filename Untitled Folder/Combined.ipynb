{
 "cells": [
  {
   "cell_type": "code",
   "execution_count": 6,
   "metadata": {},
   "outputs": [],
   "source": [
    "from subsbml import System, createSubsystem, combineSystems, createNewSubsystem\n",
    "\n",
    "import numpy as np\n",
    "import pylab as plt\n"
   ]
  },
  {
   "cell_type": "code",
   "execution_count": 7,
   "metadata": {},
   "outputs": [
    {
     "name": "stdout",
     "output_type": "stream",
     "text": [
      "The subsystem from Models/atc_membrane.xml has multiple compartments\n",
      "The subsystem from Models/dnaexp_membrane1.xml has multiple compartments\n"
     ]
    },
    {
     "data": {
      "text/plain": [
       "1"
      ]
     },
     "execution_count": 7,
     "metadata": {},
     "output_type": "execute_result"
    }
   ],
   "source": [
    "ss1 = createSubsystem('Models/DNA_transporter.xml')\n",
    "ss2 = createSubsystem('Models/fusion_atc_external_reservoir.xml')\n",
    "\n",
    "# Create a simple atc membrane where atc goes in an out of the membrane via a reversible reaction\n",
    "mb1 = createSubsystem('Models/atc_membrane.xml', membrane = True)\n",
    "\n",
    "mb2 = createSubsystem('Models/dnaexp_membrane1.xml', membrane = True)\n",
    "\n",
    "cell_1 =  System('cell_1',ListOfInternalSubsystems = [ss1],\n",
    "                 ListOfExternalSubsystems = [ss2],\n",
    "                 ListOfMembraneSubsystems = [mb1,mb2])\n",
    "\n",
    "cell_1_model = cell_1.getModel()\n",
    "cell_1_model.renameCompartments('cell_1_external', 'cell_external')\n",
    "\n",
    "cell_1_model.setSpeciesAmount('atc_e', 1e4, compartment = 'cell_external')\n",
    "cell_1_model.setSpeciesAmount('ssDNA', 50, compartment = 'cell_1_internal')\n",
    "cell_1_model.setSpeciesAmount('dna_g', 1, compartment = 'cell_1_internal')\n",
    "cell_1_model.setSpeciesAmount('tetR', 10, compartment = 'cell_1_internal')\n",
    "cell_1_model.setSpeciesAmount('ATP', 10, compartment = 'cell_1_internal')\n",
    "\n",
    "cell_1_model.writeSBML('Models/m2Dnaexp_cell.xml')"
   ]
  },
  {
   "cell_type": "code",
   "execution_count": 8,
   "metadata": {},
   "outputs": [
    {
     "name": "stdout",
     "output_type": "stream",
     "text": [
      "The subsystem from Models/atc_membrane.xml has multiple compartments\n"
     ]
    },
    {
     "data": {
      "text/plain": [
       "1"
      ]
     },
     "execution_count": 8,
     "metadata": {},
     "output_type": "execute_result"
    }
   ],
   "source": [
    "ss3 = createSubsystem('Models/fusion_sub1.xml')\n",
    "mb3 = createSubsystem('Models/atc_membrane.xml', membrane = True)\n",
    "cell_2 =  System('cell_2',ListOfInternalSubsystems = [ss3],\n",
    "                 ListOfExternalSubsystems = [ss2],\n",
    "                 ListOfMembraneSubsystems = [mb3])\n",
    "\n",
    "cell_2_model = cell_2.getModel()\n",
    "\n",
    "cell_2_model.renameCompartments('cell_2_external', 'cell_external')\n",
    "\n",
    "cell_2_model.getSBMLDocument().getModel().getCompartment(1).setSize(1e-4) \n",
    "\n",
    "cell_2_model.setSpeciesAmount('atc_e', 1e4, compartment = 'cell_external')\n",
    "cell_2_model.setSpeciesAmount('dna_f', 1, compartment = 'cell_2_internal')\n",
    "cell_2_model.setSpeciesAmount('tetR', 10, compartment = 'cell_2_internal')\n",
    "cell_2_model.setSpeciesAmount('ATP', 20, compartment = 'cell_2_internal')\n",
    "cell_2_model.setSpeciesAmount('ssDNA_comp1', 50, compartment = 'cell_external')\n",
    "cell_2_model.writeSBML('Models/m2fusion_cell1.xml')"
   ]
  },
  {
   "cell_type": "code",
   "execution_count": 9,
   "metadata": {},
   "outputs": [
    {
     "name": "stdout",
     "output_type": "stream",
     "text": [
      "The subsystem from Models/atc_membrane.xml has multiple compartments\n"
     ]
    },
    {
     "data": {
      "text/plain": [
       "1"
      ]
     },
     "execution_count": 9,
     "metadata": {},
     "output_type": "execute_result"
    }
   ],
   "source": [
    "ss5 = createSubsystem('Models/fusion_sub2.xml')\n",
    "mb4 = createSubsystem('Models/atc_membrane.xml', membrane = True)\n",
    "cell_3 =  System('cell_3',ListOfInternalSubsystems = [ss5],\n",
    "                 ListOfExternalSubsystems = [ss2],\n",
    "                 ListOfMembraneSubsystems = [mb4])\n",
    "cell_3_model = cell_3.getModel()\n",
    "cell_3_model.renameCompartments('cell_3_external', 'cell_external')\n",
    "\n",
    "cell_3_model.setSpeciesAmount('atc_e', 1e4, compartment = 'cell_external')\n",
    "cell_3_model.setSpeciesAmount('dna_h', 1, compartment = 'cell_3_internal')\n",
    "cell_3_model.setSpeciesAmount('ATP', 20, compartment = 'cell_3_internal')\n",
    "cell_3_model.setSpeciesAmount('ssDNA_comp2', 50, compartment = 'cell_external')\n",
    "cell_3_model.getSBMLDocument().getModel().getCompartment(1).setSize(1e-4) \n",
    "\n",
    "cell_3_model.writeSBML('Models/m2fusion_cell2.xml')\n"
   ]
  },
  {
   "cell_type": "code",
   "execution_count": 10,
   "metadata": {},
   "outputs": [
    {
     "data": {
      "text/plain": [
       "1"
      ]
     },
     "execution_count": 10,
     "metadata": {},
     "output_type": "execute_result"
    }
   ],
   "source": [
    "system2 = createNewSubsystem() #missing membrane reactions, external comp reactions, not initializing external specie conc properly\n",
    "system2.combineSubsystems([cell_1_model, cell_2_model, cell_3_model])\n",
    "\n",
    "system2.setSpeciesAmount('atc_e', 1e4, compartment = 'cell_external') \n",
    "system2.setSpeciesAmount('ssDNA', 50, compartment = 'cell_1_internal')\n",
    "system2.setSpeciesAmount('dna_g', 1, compartment = 'cell_1_internal')\n",
    "system2.setSpeciesAmount('tetR', 10, compartment = 'cell_1_internal')\n",
    "system2.setSpeciesAmount('ATP', 10, compartment = 'cell_1_internal')\n",
    "system2.setSpeciesAmount('dna_f', 1, compartment = 'cell_2_internal')\n",
    "system2.setSpeciesAmount('tetR', 10, compartment = 'cell_2_internal')\n",
    "system2.setSpeciesAmount('ATP', 20, compartment = 'cell_2_internal')\n",
    "system2.setSpeciesAmount('ssDNA_comp1', 50, compartment = 'cell_external')\n",
    "system2.setSpeciesAmount('dna_h', 1, compartment = 'cell_3_internal')\n",
    "system2.setSpeciesAmount('ATP', 20, compartment = 'cell_3_internal')\n",
    "system2.setSpeciesAmount('ssDNA_comp2', 50, compartment = 'cell_external')\n",
    "system2.writeSBML('Models/m2system.xml')"
   ]
  },
  {
   "cell_type": "code",
   "execution_count": 15,
   "metadata": {},
   "outputs": [
    {
     "data": {
      "text/plain": [
       "{'cell_1_external_combined': 'cell_1_external_combined_1',\n",
       " 'cell_1_external': 'cell_1_external_combined_1',\n",
       " 'atc_e_external_reservoir_model': 'atc_e_external_reservoir_model_1_combined',\n",
       " 'atc_e': 'atc_e_external_reservoir_model_1_combined',\n",
       " 'ssDNA_e_external_reservoir_model': 'ssDNA_e_external_reservoir_model_1_combined',\n",
       " 'ssDNA_e': 'ssDNA_e_external_reservoir_model_1_combined',\n",
       " 'cell_1_external_combined_1': 'cell_external'}"
      ]
     },
     "execution_count": 15,
     "metadata": {},
     "output_type": "execute_result"
    }
   ],
   "source": [
    "cell_1_model.changeLog"
   ]
  },
  {
   "cell_type": "code",
   "execution_count": 16,
   "metadata": {},
   "outputs": [
    {
     "data": {
      "text/plain": [
       "{'cell_2_external': 'cell_2_external_combined',\n",
       " 'atc_e_external_reservoir_model': 'atc_e_external_reservoir_model_1_combined',\n",
       " 'atc_e': 'atc_e_external_reservoir_model_1_combined',\n",
       " 'cell_2_external_combined': 'cell_external'}"
      ]
     },
     "execution_count": 16,
     "metadata": {},
     "output_type": "execute_result"
    }
   ],
   "source": [
    "cell_2_model.changeLog"
   ]
  },
  {
   "cell_type": "code",
   "execution_count": 17,
   "metadata": {},
   "outputs": [
    {
     "data": {
      "text/plain": [
       "{'cell_3_external': 'cell_3_external_combined',\n",
       " 'atc_e_external_reservoir_model': 'atc_e_external_reservoir_model_1_combined',\n",
       " 'atc_e': 'atc_e_external_reservoir_model_1_combined',\n",
       " 'cell_3_external_combined': 'cell_external'}"
      ]
     },
     "execution_count": 17,
     "metadata": {},
     "output_type": "execute_result"
    }
   ],
   "source": [
    "cell_3_model.changeLog"
   ]
  },
  {
   "cell_type": "code",
   "execution_count": 18,
   "metadata": {},
   "outputs": [
    {
     "data": {
      "text/plain": [
       "{'cell_external': 'cell_external_combined',\n",
       " 'ssDNA_comp1_external_reservoir_model': 'ssDNA_comp1_external_reservoir_model_1_combined',\n",
       " 'ssDNA_comp2_external_reservoir_model': 'ssDNA_comp2_external_reservoir_model_1_combined',\n",
       " 'dsDNA_external_reservoir_model': 'dsDNA_external_reservoir_model_1_combined',\n",
       " 'atc_e_external_reservoir_model_1_combined': 'atc_e_external_reservoir_model_1_combined_1_combined',\n",
       " 'ssDNA_e_external_reservoir_model_1_combined': 'ssDNA_e_external_reservoir_model_1_combined_1_combined',\n",
       " 'ssDNA_e_external_reservoir_model': 'ssDNA_e_external_reservoir_model_1_combined_1_combined',\n",
       " 'kf_external_reservoir_model': 'kf_combined',\n",
       " 'kre_external_reservoir_model': 'kre_combined',\n",
       " 'kb': 'kb_combined',\n",
       " 'kd': 'kd_combined',\n",
       " 'r0_biocrnpyler_607772': 'r0_biocrnpyler_607772_combined',\n",
       " 'r0_1_biocrnpyler_607772': 'r0_1_biocrnpyler_607772_combined'}"
      ]
     },
     "execution_count": 18,
     "metadata": {},
     "output_type": "execute_result"
    }
   ],
   "source": [
    "system2.changeLog"
   ]
  },
  {
   "cell_type": "markdown",
   "metadata": {},
   "source": [
    "system = combineSystems([cell_1, cell_2, cell_3]) #more than required no of compartments\n",
    "\n",
    "system.writeSBML('Models/m1system.xml')"
   ]
  },
  {
   "cell_type": "raw",
   "metadata": {},
   "source": [
    "fus_cell=createNewSubsystem()\n",
    "fus_cell.fusion([cell_2_model,cell_3_model])\n",
    "\n",
    "_ = fus_cell.writeSBML('Models/fusion_fusedcell.xml')\n",
    "cell_2_model.writeSBML('Models/fusion_newcell1.xml')\n",
    "cell_3_model.writeSBML('Models/fusion_newcell2.xml')"
   ]
  },
  {
   "cell_type": "code",
   "execution_count": null,
   "metadata": {},
   "outputs": [],
   "source": [
    "timepoints = np.linspace(0,70000,1000000)\n",
    "results_1, _ = cell_1_model.simulateWithBioscrape(timepoints)\n",
    "results_2, _ = cell_2_model.simulateWithBioscrape(timepoints)\n",
    "results_3, _ = cell_3_model.simulateWithBioscrape(timepoints)\n",
    "results_4, _ = fus_cell.simulateWithBioscrape(timepoints)\n",
    "\n",
    "ssDNA_e_id1 = cell_1_model.getSpeciesByName('ssDNA_e', compartment = 'cell_1_external').getId()\n",
    "#exsA_id2 = cell_2_model.getSpeciesByName('exsA', compartment = 'fusedcell_1').getId()\n",
    "#gfp_id3 = cell_3_model.getSpeciesByName('gfp', compartment = 'fusedcell_1').getId()\n",
    "#gfp_id4 = fus_comb.getSpeciesByName('gfp', compartment = 'fusedcell_1').getId()\n",
    "#exsA_id4 = fus_comb.getSpeciesByName('exsA', compartment = 'fusedcell_1').getId()\n",
    "\n",
    "plt.figure(figsize=(12,6))\n",
    "plt.plot(timepoints, results_1[ssDNA_e_id1], linewidth = 3, label = 'ssDNA_e')\n",
    "#plt.plot(timepoints, results_2[exsA_id2], linewidth = 3, label = 'exsA_cell2')\n",
    "#plt.plot(timepoints, results_3[gfp_id3], linewidth = 3, label = 'gfp_cell3')\n",
    "#plt.plot(timepoints, results_4[gfp_id4], linewidth = 3, label = 'gfp_fused cell')\n",
    "#plt.plot(timepoints, results_4[exsA_id4], linewidth = 3, label = 'exsA_fused cell')\n",
    "\n",
    "plt.title(\"Model\")\n",
    "plt.xlabel('Time')\n",
    "plt.ylabel('Conc')\n",
    "plt.legend()\n",
    "plt.show()"
   ]
  },
  {
   "cell_type": "code",
   "execution_count": null,
   "metadata": {},
   "outputs": [],
   "source": []
  },
  {
   "cell_type": "code",
   "execution_count": null,
   "metadata": {},
   "outputs": [],
   "source": []
  },
  {
   "cell_type": "code",
   "execution_count": null,
   "metadata": {},
   "outputs": [],
   "source": []
  }
 ],
 "metadata": {
  "kernelspec": {
   "display_name": "Python 3",
   "language": "python",
   "name": "python3"
  },
  "language_info": {
   "codemirror_mode": {
    "name": "ipython",
    "version": 3
   },
   "file_extension": ".py",
   "mimetype": "text/x-python",
   "name": "python",
   "nbconvert_exporter": "python",
   "pygments_lexer": "ipython3",
   "version": "3.7.7"
  }
 },
 "nbformat": 4,
 "nbformat_minor": 4
}
