{
 "cells": [
  {
   "cell_type": "code",
   "execution_count": 62,
   "metadata": {},
   "outputs": [],
   "source": [
    "from subsbml import System, createSubsystem, combineSystems, createNewSubsystem\n",
    "\n",
    "import numpy as np\n",
    "import pylab as plt\n"
   ]
  },
  {
   "cell_type": "code",
   "execution_count": 63,
   "metadata": {},
   "outputs": [
    {
     "name": "stdout",
     "output_type": "stream",
     "text": [
      "The subsystem from Models/atc_membrane.xml has multiple compartments\n",
      "The subsystem from Models/dnaexp_membrane1.xml has multiple compartments\n"
     ]
    },
    {
     "data": {
      "text/plain": [
       "1"
      ]
     },
     "execution_count": 63,
     "metadata": {},
     "output_type": "execute_result"
    }
   ],
   "source": [
    "ss1 = createSubsystem('Models/DNA_transporter.xml')\n",
    "ss2 = createSubsystem('Models/atc_external_reservoir.xml')\n",
    "\n",
    "# Create a simple atc membrane where atc goes in an out of the membrane via a reversible reaction\n",
    "mb1 = createSubsystem('Models/atc_membrane.xml', membrane = True)\n",
    "\n",
    "mb2 = createSubsystem('Models/dnaexp_membrane1.xml', membrane = True)\n",
    "\n",
    "cell_1 =  System('cell_1',ListOfInternalSubsystems = [ss1],\n",
    "                 ListOfExternalSubsystems = [ss2],\n",
    "                 ListOfMembraneSubsystems = [mb1,mb2])\n",
    "\n",
    "cell_1_model = cell_1.getModel()\n",
    "cell_1_model.setSpeciesAmount('atc_e', 1e4, compartment = 'cell_1_external')\n",
    "cell_1_model.setSpeciesAmount('ssDNA', 50, compartment = 'cell_1_internal')\n",
    "cell_1_model.setSpeciesAmount('dna_g', 1, compartment = 'cell_1_internal')\n",
    "cell_1_model.setSpeciesAmount('tetR', 10, compartment = 'cell_1_internal')\n",
    "cell_1_model.setSpeciesAmount('ATP', 10, compartment = 'cell_1_internal')\n",
    "cell_1_model.getSBMLDocument().getModel().getCompartment(1).setSize(1e-4) \n",
    "cell_1_model.writeSBML('Models/Dnaexp_cell.xml')\n"
   ]
  },
  {
   "cell_type": "code",
   "execution_count": 64,
   "metadata": {},
   "outputs": [
    {
     "name": "stdout",
     "output_type": "stream",
     "text": [
      "The subsystem from Models/atc_membrane.xml has multiple compartments\n"
     ]
    },
    {
     "data": {
      "text/plain": [
       "1"
      ]
     },
     "execution_count": 64,
     "metadata": {},
     "output_type": "execute_result"
    }
   ],
   "source": [
    "ss3 = createSubsystem('Models/fusion_sub1.xml')\n",
    "ss4 = createSubsystem('Models/fusion_atc_external_reservoir.xml')\n",
    "mb3 = createSubsystem('Models/atc_membrane.xml', membrane = True)\n",
    "cell_2 =  System('cell_2',ListOfInternalSubsystems = [ss3],\n",
    "                 ListOfExternalSubsystems = [ss4],\n",
    "                 ListOfMembraneSubsystems = [mb3])\n",
    "\n",
    "cell_2_model = cell_2.getModel()\n",
    "cell_2_model.setSpeciesAmount('atc_e', 1e4, compartment = 'cell_2_external')\n",
    "cell_2_model.setSpeciesAmount('dna_f', 1, compartment = 'cell_2_internal')\n",
    "cell_2_model.setSpeciesAmount('tetR', 10, compartment = 'cell_2_internal')\n",
    "cell_2_model.setSpeciesAmount('ATP', 20, compartment = 'cell_2_internal')\n",
    "cell_2_model.setSpeciesAmount('ssDNA_comp1', 50, compartment = 'cell_2_external')\n",
    "cell_2_model.getSBMLDocument().getModel().getCompartment(1).setSize(1e-4) \n",
    "cell_2_model.writeSBML('Models/fusion_cell1.xml')\n"
   ]
  },
  {
   "cell_type": "code",
   "execution_count": 65,
   "metadata": {},
   "outputs": [
    {
     "name": "stdout",
     "output_type": "stream",
     "text": [
      "The subsystem from Models/atc_membrane.xml has multiple compartments\n"
     ]
    },
    {
     "data": {
      "text/plain": [
       "1"
      ]
     },
     "execution_count": 65,
     "metadata": {},
     "output_type": "execute_result"
    }
   ],
   "source": [
    "ss5 = createSubsystem('Models/fusion_sub2.xml')\n",
    "ss6 = createSubsystem('Models/fusion_atc_external_reservoir.xml')\n",
    "mb4 = createSubsystem('Models/atc_membrane.xml', membrane = True)\n",
    "cell_3 =  System('cell_3',ListOfInternalSubsystems = [ss5],\n",
    "                 ListOfExternalSubsystems = [ss6],\n",
    "                 ListOfMembraneSubsystems = [mb4])\n",
    "cell_3_model = cell_3.getModel()\n",
    "cell_3_model.setSpeciesAmount('atc_e', 1e4, compartment = 'cell_3_external')\n",
    "cell_3_model.setSpeciesAmount('dna_h', 1, compartment = 'cell_3_internal')\n",
    "cell_3_model.setSpeciesAmount('ATP', 20, compartment = 'cell_3_internal')\n",
    "cell_3_model.setSpeciesAmount('ssDNA_comp2', 50, compartment = 'cell_3_external')\n",
    "cell_3_model.getSBMLDocument().getModel().getCompartment(1).setSize(1e-4) \n",
    "cell_3_model.writeSBML('Models/fusion_cell2.xml')\n"
   ]
  },
  {
   "cell_type": "code",
   "execution_count": 66,
   "metadata": {},
   "outputs": [
    {
     "data": {
      "text/plain": [
       "1"
      ]
     },
     "execution_count": 66,
     "metadata": {},
     "output_type": "execute_result"
    }
   ],
   "source": [
    "system = combineSystems([cell_1, cell_2, cell_3])\n",
    "system.writeSBML('Models/system.xml')"
   ]
  },
  {
   "cell_type": "code",
   "execution_count": 67,
   "metadata": {},
   "outputs": [
    {
     "data": {
      "text/plain": [
       "1"
      ]
     },
     "execution_count": 67,
     "metadata": {},
     "output_type": "execute_result"
    }
   ],
   "source": [
    "fus_cell=createNewSubsystem()\n",
    "fus_cell.fusion([cell_2_model,cell_3_model])\n",
    "\n",
    "_ = fus_cell.writeSBML('Models/fusion_fusedcell.xml')\n",
    "cell_2_model.writeSBML('Models/fusion_newcell1.xml')\n",
    "cell_3_model.writeSBML('Models/fusion_newcell2.xml')"
   ]
  },
  {
   "cell_type": "code",
   "execution_count": 68,
   "metadata": {},
   "outputs": [
    {
     "name": "stderr",
     "output_type": "stream",
     "text": [
      "C:\\Users\\Agrima\\anaconda3\\lib\\site-packages\\bioscrape\\sbmlutil.py:93: UserWarning: SBML model contains reversible reaction!\n",
      "Please check rate expressions and ensure they are non-negative before doing stochastic simulations.\n",
      "  'Please check rate expressions and ensure they are non-negative before doing '+\n",
      "C:\\Users\\Agrima\\anaconda3\\lib\\site-packages\\bioscrape\\sbmlutil.py:208: UserWarning: Compartments, UnitDefintions, Events, and some other SBML model components are not recognized by bioscrape. Refer to the bioscrape wiki for more information.\n",
      "  warnings.warn('Compartments, UnitDefintions, Events, and some other SBML model components are not recognized by bioscrape. ' +\n"
     ]
    },
    {
     "data": {
      "image/png": "[encoded data removed]",
      "text/plain": [
       "<Figure size 864x432 with 1 Axes>"
      ]
     },
     "metadata": {
      "needs_background": "light"
     },
     "output_type": "display_data"
    }
   ],
   "source": [
    "timepoints = np.linspace(0,70000,1000000)\n",
    "results_1, _ = cell_1_model.simulateWithBioscrape(timepoints)\n",
    "results_2, _ = cell_2_model.simulateWithBioscrape(timepoints)\n",
    "results_3, _ = cell_3_model.simulateWithBioscrape(timepoints)\n",
    "results_4, _ = fus_cell.simulateWithBioscrape(timepoints)\n",
    "\n",
    "ssDNA_e_id1 = cell_1_model.getSpeciesByName('ssDNA_e', compartment = 'cell_1_external').getId()\n",
    "#exsA_id2 = cell_2_model.getSpeciesByName('exsA', compartment = 'fusedcell_1').getId()\n",
    "#gfp_id3 = cell_3_model.getSpeciesByName('gfp', compartment = 'fusedcell_1').getId()\n",
    "#gfp_id4 = fus_comb.getSpeciesByName('gfp', compartment = 'fusedcell_1').getId()\n",
    "#exsA_id4 = fus_comb.getSpeciesByName('exsA', compartment = 'fusedcell_1').getId()\n",
    "\n",
    "plt.figure(figsize=(12,6))\n",
    "plt.plot(timepoints, results_1[ssDNA_e_id1], linewidth = 3, label = 'ssDNA_e')\n",
    "#plt.plot(timepoints, results_2[exsA_id2], linewidth = 3, label = 'exsA_cell2')\n",
    "#plt.plot(timepoints, results_3[gfp_id3], linewidth = 3, label = 'gfp_cell3')\n",
    "#plt.plot(timepoints, results_4[gfp_id4], linewidth = 3, label = 'gfp_fused cell')\n",
    "#plt.plot(timepoints, results_4[exsA_id4], linewidth = 3, label = 'exsA_fused cell')\n",
    "\n",
    "plt.title(\"Model\")\n",
    "plt.xlabel('Time')\n",
    "plt.ylabel('Conc')\n",
    "plt.legend()\n",
    "plt.show()"
   ]
  },
  {
   "cell_type": "code",
   "execution_count": null,
   "metadata": {},
   "outputs": [],
   "source": []
  },
  {
   "cell_type": "code",
   "execution_count": 44,
   "metadata": {},
   "outputs": [
    {
     "ename": "NameError",
     "evalue": "name 'ssDNA_e' is not defined",
     "output_type": "error",
     "traceback": [
      "\u001b[1;31m---------------------------------------------------------------------------\u001b[0m",
      "\u001b[1;31mNameError\u001b[0m                                 Traceback (most recent call last)",
      "\u001b[1;32m<ipython-input-44-b59e89000f24>\u001b[0m in \u001b[0;36m<module>\u001b[1;34m\u001b[0m\n\u001b[1;32m----> 1\u001b[1;33m \u001b[0mcell_2_model\u001b[0m\u001b[1;33m.\u001b[0m\u001b[0mshareSpecies\u001b[0m\u001b[1;33m(\u001b[0m \u001b[1;33m[\u001b[0m\u001b[0mss2\u001b[0m\u001b[1;33m,\u001b[0m\u001b[0mss4\u001b[0m\u001b[1;33m]\u001b[0m\u001b[1;33m,\u001b[0m \u001b[1;33m[\u001b[0m\u001b[0mssDNA_e\u001b[0m\u001b[1;33m,\u001b[0m \u001b[0mssDNA_comp1\u001b[0m\u001b[1;33m,\u001b[0m \u001b[0mssDNA_comp2\u001b[0m\u001b[1;33m,\u001b[0m\u001b[0mdsDNA\u001b[0m\u001b[1;33m]\u001b[0m\u001b[1;33m,\u001b[0m \u001b[0mmode\u001b[0m\u001b[1;33m=\u001b[0m\u001b[1;34m'virtual'\u001b[0m\u001b[1;33m)\u001b[0m\u001b[1;33m\u001b[0m\u001b[1;33m\u001b[0m\u001b[0m\n\u001b[0m",
      "\u001b[1;31mNameError\u001b[0m: name 'ssDNA_e' is not defined"
     ]
    }
   ],
   "source": []
  },
  {
   "cell_type": "code",
   "execution_count": null,
   "metadata": {},
   "outputs": [],
   "source": []
  }
 ],
 "metadata": {
  "kernelspec": {
   "display_name": "Python 3",
   "language": "python",
   "name": "python3"
  },
  "language_info": {
   "codemirror_mode": {
    "name": "ipython",
    "version": 3
   },
   "file_extension": ".py",
   "mimetype": "text/x-python",
   "name": "python",
   "nbconvert_exporter": "python",
   "pygments_lexer": "ipython3",
   "version": "3.7.7"
  }
 },
 "nbformat": 4,
 "nbformat_minor": 4
}
