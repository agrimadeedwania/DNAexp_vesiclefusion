{
 "cells": [
  {
   "cell_type": "markdown",
   "metadata": {},
   "source": [
    "# Caution \n",
    "\n",
    "1) If reaction names and specie names are same for two reaction, they are combined. Remember to change the reaction name before combining models if you want same reactions to be present (even for different compartments).\n",
    "\n",
    "2) Do not change the membrane model and the external subsystem model. The ones that I haveListed should be there. Add new models in the respective ListOfSubsystems according to mechanism.\n",
    "\n",
    "3) Change internal subsystem of cells (cell_2 and cell_3) to be fused according to the objective you want to achieve. \n",
    "\n",
    "4) Remeber to check the sbml file of generated model to verify if things are correct.\n"
   ]
  },
  {
   "cell_type": "code",
   "execution_count": 1,
   "metadata": {},
   "outputs": [
    {
     "name": "stderr",
     "output_type": "stream",
     "text": [
      "C:\\Users\\Agrima\\anaconda3\\lib\\site-packages\\biocrnpyler-0.2.1-py3.7.egg\\biocrnpyler\\__init__.py:37: UserWarning: No module named 'fa2'\n",
      "C:\\Users\\Agrima\\anaconda3\\lib\\site-packages\\biocrnpyler-0.2.1-py3.7.egg\\biocrnpyler\\__init__.py:38: UserWarning: plotting is disabled because you are missing some libraries\n"
     ]
    }
   ],
   "source": [
    "from biocrnpyler import *\n",
    "import numpy as np\n",
    "import pylab as plt\n",
    "from subsbml import *\n",
    "import libsbml"
   ]
  },
  {
   "cell_type": "markdown",
   "metadata": {},
   "source": [
    "# Make individual cell model"
   ]
  },
  {
   "cell_type": "code",
   "execution_count": 2,
   "metadata": {},
   "outputs": [
    {
     "name": "stdout",
     "output_type": "stream",
     "text": [
      "The subsystem from Models/atc_membrane_export.xml has multiple compartments\n",
      "The subsystem from Models/dnaexp_membrane1.xml has multiple compartments\n"
     ]
    },
    {
     "data": {
      "text/plain": [
       "1"
      ]
     },
     "execution_count": 2,
     "metadata": {},
     "output_type": "execute_result"
    }
   ],
   "source": [
    "ss1 = createSubsystem('Models/Export_transporter_cell1.xml')\n",
    "ss2 = createSubsystem('Models/atc_external_reservoir.xml')\n",
    "#ssext= createSubsystem('Models/dnaStrand_fusion_export.xml')\n",
    "\n",
    "# Create a simple atc membrane where atc goes in an out of the membrane via a reversible reaction\n",
    "mb1 = createSubsystem('Models/atc_membrane_export.xml', membrane = True)\n",
    "\n",
    "mb2 = createSubsystem('Models/dnaexp_membrane1.xml', membrane = True)\n",
    "\n",
    "cell_1 =  System('cell_1',ListOfInternalSubsystems = [ss1],\n",
    "                 ListOfExternalSubsystems = [ss2],\n",
    "                 ListOfMembraneSubsystems = [mb1,mb2])\n",
    "\n",
    "cell_1_model = cell_1.getModel()\n",
    "cell_1_model.renameCompartments('cell_1_external', 'cell_external')\n",
    "cell_1_model.getSBMLDocument().getModel().getCompartment(1).setSize(1e-4) \n",
    "\n",
    "cell_1_model.writeSBML('Models/m2Dnaexp_cell.xml')"
   ]
  },
  {
   "cell_type": "code",
   "execution_count": 3,
   "metadata": {},
   "outputs": [
    {
     "name": "stdout",
     "output_type": "stream",
     "text": [
      "The subsystem from Models/atc_membrane_cell2.xml has multiple compartments\n"
     ]
    },
    {
     "data": {
      "text/plain": [
       "1"
      ]
     },
     "execution_count": 3,
     "metadata": {},
     "output_type": "execute_result"
    }
   ],
   "source": [
    "ss3 = createSubsystem('Models/fusion_sub1.xml')\n",
    "mb3 = createSubsystem('Models/atc_membrane_cell2.xml', membrane = True)\n",
    "cell_2 =  System('cell_2',ListOfInternalSubsystems = [ss3],\n",
    "                 ListOfExternalSubsystems = [ss2],\n",
    "                 ListOfMembraneSubsystems = [mb3])\n",
    "\n",
    "cell_2_model = cell_2.getModel()\n",
    "\n",
    "cell_2_model.renameCompartments('cell_2_external', 'cell_external')\n",
    "cell_2_model.getSBMLDocument().getModel().getCompartment(1).setSize(1e-4) \n",
    "\n",
    "cell_2_model.writeSBML('Models/m2fusion_cell1.xml')"
   ]
  },
  {
   "cell_type": "code",
   "execution_count": 4,
   "metadata": {},
   "outputs": [
    {
     "name": "stdout",
     "output_type": "stream",
     "text": [
      "The subsystem from Models/atc_membrane_cell3.xml has multiple compartments\n"
     ]
    },
    {
     "data": {
      "text/plain": [
       "1"
      ]
     },
     "execution_count": 4,
     "metadata": {},
     "output_type": "execute_result"
    }
   ],
   "source": [
    "ss5 = createSubsystem('Models/fusion_sub2.xml')\n",
    "mb4 = createSubsystem('Models/atc_membrane_cell3.xml', membrane = True)\n",
    "cell_3 =  System('cell_3',ListOfInternalSubsystems = [ss5],\n",
    "                 ListOfExternalSubsystems = [ss2],\n",
    "                 ListOfMembraneSubsystems = [mb4])\n",
    "\n",
    "cell_3_model = cell_3.getModel()\n",
    "\n",
    "cell_3_model.renameCompartments('cell_3_external', 'cell_external')\n",
    "cell_3_model.getSBMLDocument().getModel().getCompartment(0).setSize(1e-4) \n",
    "\n",
    "cell_3_model.writeSBML('Models/m2fusion_cell2.xml')\n"
   ]
  },
  {
   "cell_type": "markdown",
   "metadata": {},
   "source": [
    "### correct cell model to show interaction of species that induce fusion \n",
    "ssDNA_e, ssDNAcomp1, ssDNAcomp2, dsDNA"
   ]
  },
  {
   "cell_type": "code",
   "execution_count": 5,
   "metadata": {},
   "outputs": [
    {
     "name": "stdout",
     "output_type": "stream",
     "text": [
      "The subsystem from Models/m2Dnaexp_cell.xml has multiple compartments\n",
      "The subsystem from Models/m2fusion_cell1.xml has multiple compartments\n",
      "The subsystem from Models/m2fusion_cell2.xml has multiple compartments\n"
     ]
    },
    {
     "name": "stderr",
     "output_type": "stream",
     "text": [
      "C:\\Users\\Agrima\\anaconda3\\lib\\site-packages\\subsbml-0.1-py3.7.egg\\subsbml\\Subsystem.py:646: UserWarning: Not all of the Subsystems being combined are in the same Compartment\n",
      "C:\\Users\\Agrima\\anaconda3\\lib\\site-packages\\subsbml-0.1-py3.7.egg\\subsbml\\Subsystem.py:989: UserWarning: Annotated propensity updated to: <PropensityType> type=massaction k=0.0002  </PropensityType>\n",
      "C:\\Users\\Agrima\\anaconda3\\lib\\site-packages\\subsbml-0.1-py3.7.egg\\subsbml\\Subsystem.py:989: UserWarning: Annotated propensity updated to: <PropensityType> type=massaction k=2e-09  </PropensityType>\n",
      "C:\\Users\\Agrima\\anaconda3\\lib\\site-packages\\subsbml-0.1-py3.7.egg\\subsbml\\Subsystem.py:989: UserWarning: Annotated propensity updated to: <PropensityType> type=massaction k=4e-05  </PropensityType>\n",
      "C:\\Users\\Agrima\\anaconda3\\lib\\site-packages\\subsbml-0.1-py3.7.egg\\subsbml\\Subsystem.py:989: UserWarning: Annotated propensity updated to: <PropensityType> type=massaction k=1e-12  </PropensityType>\n",
      "C:\\Users\\Agrima\\anaconda3\\lib\\site-packages\\subsbml-0.1-py3.7.egg\\subsbml\\Subsystem.py:989: UserWarning: Annotated propensity updated to: <PropensityType> type=massaction k=6e-06  </PropensityType>\n",
      "C:\\Users\\Agrima\\anaconda3\\lib\\site-packages\\subsbml-0.1-py3.7.egg\\subsbml\\Subsystem.py:989: UserWarning: Annotated propensity updated to: <PropensityType> type=massaction k=3e-09  </PropensityType>\n",
      "C:\\Users\\Agrima\\anaconda3\\lib\\site-packages\\subsbml-0.1-py3.7.egg\\subsbml\\Subsystem.py:989: UserWarning: Annotated propensity updated to: <PropensityType> type=massaction k=0.005  </PropensityType>\n",
      "C:\\Users\\Agrima\\anaconda3\\lib\\site-packages\\subsbml-0.1-py3.7.egg\\subsbml\\Subsystem.py:989: UserWarning: Annotated propensity updated to: <PropensityType> type=massaction k=1e-10  </PropensityType>\n",
      "C:\\Users\\Agrima\\anaconda3\\lib\\site-packages\\subsbml-0.1-py3.7.egg\\subsbml\\Subsystem.py:989: UserWarning: Annotated propensity updated to: <PropensityType> type=massaction k=0.0031875  </PropensityType>\n",
      "C:\\Users\\Agrima\\anaconda3\\lib\\site-packages\\subsbml-0.1-py3.7.egg\\subsbml\\Subsystem.py:989: UserWarning: Annotated propensity updated to: <PropensityType> type=proportionalhillpositive k=0.001 K=1 n=1 s1=ATP_biocrnpyler_269558_cell1combined_model_of__combined_model_of__external_reservoir_model_combined_model_of__atc_membrane_dnaexp_membrane_combined_model_of__biocrnpyler_269558 d=rna_g_biocrnpyler_269558_cell1combined_model_of__combined_model_of__external_reservoir_model_combined_model_of__atc_membrane_dnaexp_membrane_combined_model_of__biocrnpyler_269558  </PropensityType>\n",
      "C:\\Users\\Agrima\\anaconda3\\lib\\site-packages\\subsbml-0.1-py3.7.egg\\subsbml\\Subsystem.py:989: UserWarning: Annotated propensity updated to: <PropensityType> type=massaction k=5e-05  </PropensityType>\n",
      "C:\\Users\\Agrima\\anaconda3\\lib\\site-packages\\subsbml-0.1-py3.7.egg\\subsbml\\Subsystem.py:989: UserWarning: Annotated propensity updated to: <PropensityType> type=massaction k=0.001  </PropensityType>\n",
      "C:\\Users\\Agrima\\anaconda3\\lib\\site-packages\\subsbml-0.1-py3.7.egg\\subsbml\\Subsystem.py:989: UserWarning: Annotated propensity updated to: <PropensityType> type=massaction k=1e-05  </PropensityType>\n",
      "C:\\Users\\Agrima\\anaconda3\\lib\\site-packages\\subsbml-0.1-py3.7.egg\\subsbml\\Subsystem.py:989: UserWarning: Annotated propensity updated to: <PropensityType> type=massaction k=2e-05  </PropensityType>\n",
      "C:\\Users\\Agrima\\anaconda3\\lib\\site-packages\\subsbml-0.1-py3.7.egg\\subsbml\\Subsystem.py:989: UserWarning: Annotated propensity updated to: <PropensityType> type=massaction k=4e-07  </PropensityType>\n",
      "C:\\Users\\Agrima\\anaconda3\\lib\\site-packages\\subsbml-0.1-py3.7.egg\\subsbml\\Subsystem.py:989: UserWarning: Annotated propensity updated to: <PropensityType> type=massaction k=6e-08  </PropensityType>\n",
      "C:\\Users\\Agrima\\anaconda3\\lib\\site-packages\\subsbml-0.1-py3.7.egg\\subsbml\\Subsystem.py:989: UserWarning: Annotated propensity updated to: <PropensityType> type=massaction k=0.001875  </PropensityType>\n",
      "C:\\Users\\Agrima\\anaconda3\\lib\\site-packages\\subsbml-0.1-py3.7.egg\\subsbml\\Subsystem.py:989: UserWarning: Annotated propensity updated to: <PropensityType> type=proportionalhillpositive k=0.0005 K=1 n=1 s1=ATP_biocrnpyler_77342_cell2combined_model_of__combined_model_of__external_reservoir_model_combined_model_of__atc_membrane2_combined_model_of__biocrnpyler_77342 d=rna_f_biocrnpyler_77342_cell2combined_model_of__combined_model_of__external_reservoir_model_combined_model_of__atc_membrane2_combined_model_of__biocrnpyler_77342  </PropensityType>\n",
      "C:\\Users\\Agrima\\anaconda3\\lib\\site-packages\\subsbml-0.1-py3.7.egg\\subsbml\\Subsystem.py:989: UserWarning: Annotated propensity updated to: <PropensityType> type=proportionalhillpositive k=0.0005 K=1 n=1 s1=ATP_biocrnpyler_872167_cell3combined_model_of__combined_model_of__external_reservoir_model_combined_model_of__atc_membrane3_combined_model_of__biocrnpyler_872167 d=rna_h_biocrnpyler_872167_cell3combined_model_of__combined_model_of__external_reservoir_model_combined_model_of__atc_membrane3_combined_model_of__biocrnpyler_872167  </PropensityType>\n",
      "C:\\Users\\Agrima\\anaconda3\\lib\\site-packages\\subsbml-0.1-py3.7.egg\\subsbml\\Subsystem.py:1353: UserWarning: Compartments found with same name but different sizes. They will not be combined together.\n",
      "C:\\Users\\Agrima\\anaconda3\\lib\\site-packages\\subsbml-0.1-py3.7.egg\\subsbml\\Subsystem.py:1173: UserWarning: Removing duplicate species atc_e_external_reservoir_model_1_combined_cell1combined_model_of__combined_model_of__external_reservoir_model_combined_model_of__atc_membrane_dnaexp_membrane_combined_model_of__biocrnpyler_269558_1_combined in the same compartment\n",
      "C:\\Users\\Agrima\\anaconda3\\lib\\site-packages\\subsbml-0.1-py3.7.egg\\subsbml\\Subsystem.py:1282: UserWarning: Removing duplicate parameter kb from the combined model\n",
      "C:\\Users\\Agrima\\anaconda3\\lib\\site-packages\\subsbml-0.1-py3.7.egg\\subsbml\\Subsystem.py:1282: UserWarning: Removing duplicate parameter kd from the combined model\n",
      "C:\\Users\\Agrima\\anaconda3\\lib\\site-packages\\subsbml-0.1-py3.7.egg\\subsbml\\Subsystem.py:1547: UserWarning: UnitDefinition with identifier square_metre does not have a name argument. To avoid duplication, use name argument\n",
      "C:\\Users\\Agrima\\anaconda3\\lib\\site-packages\\subsbml-0.1-py3.7.egg\\subsbml\\Subsystem.py:1547: UserWarning: UnitDefinition with identifier per_second does not have a name argument. To avoid duplication, use name argument\n",
      "C:\\Users\\Agrima\\anaconda3\\lib\\site-packages\\subsbml-0.1-py3.7.egg\\subsbml\\Subsystem.py:1547: UserWarning: UnitDefinition with identifier substance does not have a name argument. To avoid duplication, use name argument\n"
     ]
    },
    {
     "data": {
      "text/plain": [
       "1"
      ]
     },
     "execution_count": 5,
     "metadata": {},
     "output_type": "execute_result"
    }
   ],
   "source": [
    "cell1ss = createSubsystem('Models/m2Dnaexp_cell.xml', \"cell1\")\n",
    "cell1ss.writeSBML('Models/cell1ss.xml')\n",
    "\n",
    "cell2ss = createSubsystem('Models/m2fusion_cell1.xml', \"cell2\")\n",
    "cell2ss.renameSName('atc_i', 'atc_i_cell2')\n",
    "cell2ss.writeSBML('Models/cell2ss.xml')\n",
    "\n",
    "cell3ss = createSubsystem('Models/m2fusion_cell2.xml', \"cell3\")\n",
    "cell3ss.renameSName('atc_i', 'atc_i_cell3')\n",
    "cell3ss.writeSBML('Models/cell3ss.xml')\n",
    "\n",
    "system3 = createNewSubsystem() \n",
    "system3.combineSubsystems([cell1ss, cell2ss, cell3ss], verbose=True)\n",
    "system3.writeSBML('Models/m3systemabc.xml')\n",
    "\n",
    "#???add dsDna species and reaction in system3???"
   ]
  },
  {
   "cell_type": "code",
   "execution_count": 6,
   "metadata": {},
   "outputs": [
    {
     "data": {
      "text/plain": [
       "1"
      ]
     },
     "execution_count": 6,
     "metadata": {},
     "output_type": "execute_result"
    }
   ],
   "source": [
    "combmod=system3.getSBMLDocument().getModel()\n",
    "combinemodel=SimpleModel(combmod)\n",
    "combinemodel.createNewSpecies(ListOfSpecies = ['dsDNA'],sComp = 'cell_external_cell1combined_model_of__combined_model_of__external_reservoir_model_combined_model_of__atc_membrane_dnaexp_membrane_combined_model_of__biocrnpyler_906589_combined', ListOfAmounts = [0], \n",
    "                             sConstant = False)\n",
    "combinemodel.createNewParameter(ListOfParameters = ['kf','kr'],\n",
    "                               ListOfValues = [1e-2, 1e-7],\n",
    "                               pConstant = False, pUnit = 'per_second')\n",
    "combinemodel.createSimpleReaction(rId = 'raa1',rStr = 'ssDNA_comp1 + ssDNA_comp2 + ssDNA_e <-> dsDNA',\n",
    "                                 rRate = 'kf * ssDNA_comp1 * ssDNA_comp2 * ssDNA_e - kre * dsDNA',\n",
    "                                 isConstant = False)\n",
    "\n",
    "system3.writeSBML('Models/m3system3.xml')\n"
   ]
  },
  {
   "cell_type": "code",
   "execution_count": null,
   "metadata": {},
   "outputs": [],
   "source": []
  },
  {
   "cell_type": "code",
   "execution_count": null,
   "metadata": {},
   "outputs": [],
   "source": []
  },
  {
   "cell_type": "code",
   "execution_count": null,
   "metadata": {},
   "outputs": [],
   "source": []
  },
  {
   "cell_type": "code",
   "execution_count": null,
   "metadata": {},
   "outputs": [],
   "source": [
    "system2 = createNewSubsystem() \n",
    "system2.combineSubsystems([cell_1_model, cell_2_model, cell_3_model], verbose=True)\n",
    "system2.writeSBML('Models/m2system2.xml')"
   ]
  },
  {
   "cell_type": "code",
   "execution_count": null,
   "metadata": {},
   "outputs": [],
   "source": [
    "#cell2ss.writeSBML('Models/m3cell2ss.xml')"
   ]
  },
  {
   "cell_type": "code",
   "execution_count": null,
   "metadata": {},
   "outputs": [],
   "source": [
    "system3.changeLog"
   ]
  },
  {
   "cell_type": "code",
   "execution_count": null,
   "metadata": {},
   "outputs": [],
   "source": [
    "cell_1_model.changeLog"
   ]
  },
  {
   "cell_type": "code",
   "execution_count": null,
   "metadata": {},
   "outputs": [],
   "source": [
    "cell_2_model.changeLog"
   ]
  },
  {
   "cell_type": "code",
   "execution_count": null,
   "metadata": {},
   "outputs": [],
   "source": [
    "cell_3_model.changeLog"
   ]
  },
  {
   "cell_type": "code",
   "execution_count": null,
   "metadata": {},
   "outputs": [],
   "source": [
    "system2.changeLog"
   ]
  },
  {
   "cell_type": "code",
   "execution_count": null,
   "metadata": {},
   "outputs": [],
   "source": []
  },
  {
   "cell_type": "markdown",
   "metadata": {},
   "source": [
    "system = combineSystems([cell_1, cell_2, cell_3]) #more than required no of compartments\n",
    "\n",
    "system.writeSBML('Models/m1system.xml')"
   ]
  },
  {
   "cell_type": "raw",
   "metadata": {},
   "source": [
    "fus_cell=createNewSubsystem()\n",
    "fus_cell.fusion([cell_2_model,cell_3_model])\n",
    "\n",
    "_ = fus_cell.writeSBML('Models/fusion_fusedcell.xml')\n",
    "cell_2_model.writeSBML('Models/fusion_newcell1.xml')\n",
    "cell_3_model.writeSBML('Models/fusion_newcell2.xml')"
   ]
  },
  {
   "cell_type": "code",
   "execution_count": null,
   "metadata": {},
   "outputs": [],
   "source": [
    "timepoints = np.linspace(0,70000,1000000)\n",
    "results_1, _ = cell_1_model.simulateWithBioscrape(timepoints)\n",
    "results_2, _ = cell_2_model.simulateWithBioscrape(timepoints)\n",
    "results_3, _ = cell_3_model.simulateWithBioscrape(timepoints)\n",
    "results_4, _ = fus_cell.simulateWithBioscrape(timepoints)\n",
    "\n",
    "ssDNA_e_id1 = cell_1_model.getSpeciesByName('ssDNA_e', compartment = 'cell_1_external').getId()\n",
    "#exsA_id2 = cell_2_model.getSpeciesByName('exsA', compartment = 'fusedcell_1').getId()\n",
    "#gfp_id3 = cell_3_model.getSpeciesByName('gfp', compartment = 'fusedcell_1').getId()\n",
    "#gfp_id4 = fus_comb.getSpeciesByName('gfp', compartment = 'fusedcell_1').getId()\n",
    "#exsA_id4 = fus_comb.getSpeciesByName('exsA', compartment = 'fusedcell_1').getId()\n",
    "\n",
    "plt.figure(figsize=(12,6))\n",
    "plt.plot(timepoints, results_1[ssDNA_e_id1], linewidth = 3, label = 'ssDNA_e')\n",
    "#plt.plot(timepoints, results_2[exsA_id2], linewidth = 3, label = 'exsA_cell2')\n",
    "#plt.plot(timepoints, results_3[gfp_id3], linewidth = 3, label = 'gfp_cell3')\n",
    "#plt.plot(timepoints, results_4[gfp_id4], linewidth = 3, label = 'gfp_fused cell')\n",
    "#plt.plot(timepoints, results_4[exsA_id4], linewidth = 3, label = 'exsA_fused cell')\n",
    "\n",
    "plt.title(\"Model\")\n",
    "plt.xlabel('Time')\n",
    "plt.ylabel('Conc')\n",
    "plt.legend()\n",
    "plt.show()"
   ]
  },
  {
   "cell_type": "code",
   "execution_count": null,
   "metadata": {},
   "outputs": [],
   "source": [
    "print (timepoints.dtype)"
   ]
  },
  {
   "cell_type": "code",
   "execution_count": null,
   "metadata": {},
   "outputs": [],
   "source": []
  },
  {
   "cell_type": "code",
   "execution_count": null,
   "metadata": {},
   "outputs": [],
   "source": [
    "#cell_1_model.renameCompartments('cell_1_external', 'cell_external')\n",
    "\n",
    "#cell_1_model.setSpeciesConcentration('atc_e', 1e4, compartment = 'cell_external')\n",
    "cell_1_model.setSpeciesConcentration('ssDNA', 50, compartment = 'cell_1_internal')\n",
    "cell_1_model.setSpeciesConcentration('dna_g', 1, compartment = 'cell_1_internal')\n",
    "cell_1_model.setSpeciesConcentration('tetR', 10, compartment = 'cell_1_internal')\n",
    "cell_1_model.setSpeciesConcentration('ATP', 10, compartment = 'cell_1_internal')\n",
    "\n",
    "#cell_1_model.getSBMLDocument().getModel().getCompartment(0).setSize(1e-6) \n",
    "#cell_1_model.getSBMLDocument().getModel().getCompartment(1).setSize(1e-4) \n",
    "\n",
    "#cell_2_model.getSBMLDocument().getModel().getCompartment(1).setSize(1e-4) \n",
    "\n",
    "cell_2_model.setSpeciesConcentration('atc_e', 1e4, compartment = 'cell_2_external')\n",
    "cell_2_model.setSpeciesConcentration('dna_f', 1, compartment = 'cell_2_internal')\n",
    "cell_2_model.setSpeciesConcentration('tetR', 10, compartment = 'cell_2_internal')\n",
    "cell_2_model.setSpeciesConcentration('ATP', 20, compartment = 'cell_2_internal')\n",
    "\n",
    "cell_3_model.setSpeciesConcentration('atc_e', 1e4, compartment = 'cell_3_external')\n",
    "cell_3_model.setSpeciesConcentration('dna_h', 1, compartment = 'cell_3_internal')\n",
    "cell_3_model.setSpeciesConcentration('ATP', 20, compartment = 'cell_3_internal')\n",
    "#cell_3_model.getSBMLDocument().getModel().getCompartment(1).setSize(1e-4) \n"
   ]
  }
 ],
 "metadata": {
  "kernelspec": {
   "display_name": "Python 3",
   "language": "python",
   "name": "python3"
  },
  "language_info": {
   "codemirror_mode": {
    "name": "ipython",
    "version": 3
   },
   "file_extension": ".py",
   "mimetype": "text/x-python",
   "name": "python",
   "nbconvert_exporter": "python",
   "pygments_lexer": "ipython3",
   "version": "3.7.7"
  }
 },
 "nbformat": 4,
 "nbformat_minor": 4
}
