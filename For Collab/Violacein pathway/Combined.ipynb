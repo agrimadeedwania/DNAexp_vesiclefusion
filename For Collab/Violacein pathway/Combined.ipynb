{
 "cells": [
  {
   "cell_type": "markdown",
   "metadata": {},
   "source": [
    "# Caution \n",
    "\n",
    "1) If reaction names and specie names (or maybe Id) are same for two reaction, they are combined. Remember to change the reaction name before combining models if you want same reactions to be present (even for different compartments).\n",
    "\n",
    "2) Do not change the membrane model and the external subsystem model. The ones that I have listed should be there. Add new models in the respective ListOfSubsystems according to mechanism you want to achieve.\n",
    "\n",
    "3) Change internal subsystem of cells (cell_2 and cell_3) to be fused according to the objective you want to achieve. \n",
    "\n",
    "4) Remeber to check the sbml file of generated model to verify if things are correct.\n",
    "\n",
    "5) I am printing result 1 and 2 inorder to check if fusion occur at right time, specie concentration are set correctly\n",
    "\n"
   ]
  },
  {
   "cell_type": "markdown",
   "metadata": {},
   "source": [
    "# Model for violacein pathway"
   ]
  },
  {
   "cell_type": "code",
   "execution_count": null,
   "metadata": {},
   "outputs": [],
   "source": [
    "from biocrnpyler import *\n",
    "import numpy as np\n",
    "import pylab as plt\n",
    "from subsbml import *\n",
    "import libsbml\n",
    "import bokeh.io\n",
    "import bokeh.plotting\n",
    "bokeh.io.output_notebook()"
   ]
  },
  {
   "cell_type": "markdown",
   "metadata": {},
   "source": [
    "# Make individual cell model"
   ]
  },
  {
   "cell_type": "code",
   "execution_count": null,
   "metadata": {},
   "outputs": [],
   "source": [
    "ss1 = createSubsystem('Models/Export_transporter_cell1.xml')\n",
    "ss2 = createSubsystem('Models/atc_external_reservoir.xml')\n",
    "#ssext= createSubsystem('Models/dnaStrand_fusion_export.xml')\n",
    "\n",
    "# Create a simple atc membrane where atc goes in an out of the membrane via a reversible reaction\n",
    "mb1 = createSubsystem('Models/atc_membrane_export.xml', membrane = True)\n",
    "\n",
    "mb2 = createSubsystem('Models/dnaexp_membrane1.xml', membrane = True)\n",
    "\n",
    "cell_1 =  System('cell_1',ListOfInternalSubsystems = [ss1],\n",
    "                 ListOfExternalSubsystems = [ss2],\n",
    "                 ListOfMembraneSubsystems = [mb1,mb2])\n",
    "\n",
    "cell_1_model = cell_1.getModel()\n",
    "cell_1_model.renameCompartments('cell_1_external', 'cell_external')\n",
    "cell_1_model.getSBMLDocument().getModel().getCompartment(1).setSize(1e-4) \n",
    "#cell_1_model.getSBMLDocument().getModel().getCompartment(0).setSize(1e-10) \n",
    "cell_1_model.setSpeciesConcentration('atc_e', 1e4, compartment = 'cell_external')\n",
    "cell_1_model.setSpeciesConcentration('ssDNA', 50, compartment = 'cell_1_internal')\n",
    "cell_1_model.setSpeciesConcentration('dna_g', 1, compartment = 'cell_1_internal')\n",
    "cell_1_model.setSpeciesConcentration('tetR', 10, compartment = 'cell_1_internal')\n",
    "cell_1_model.setSpeciesConcentration('ATP', 15, compartment = 'cell_1_internal')\n",
    "\n",
    "\n",
    "cell_1_model.writeSBML('Models/m2Dnaexp_cell.xml')"
   ]
  },
  {
   "cell_type": "code",
   "execution_count": null,
   "metadata": {},
   "outputs": [],
   "source": [
    "ss3 = createSubsystem('Models/liposome_1.xml')\n",
    "mb3 = createSubsystem('Models/atc_membrane_cell2.xml', membrane = True)\n",
    "cell_2 =  System('cell_2',ListOfInternalSubsystems = [ss3],\n",
    "                 ListOfExternalSubsystems = [ss2],\n",
    "                 ListOfMembraneSubsystems = [mb3])\n",
    "\n",
    "cell_2_model = cell_2.getModel()\n",
    "#cell_2_model.renameSName('atc_i', 'atc_i_cell2')\n",
    "cell_2_model.renameCompartments('cell_2_external', 'cell_external')\n",
    "cell_2_model.getSBMLDocument().getModel().getCompartment(0).setSize(1e-4) \n",
    "#cell_2_model.getSBMLDocument().getModel().getCompartment(1).setSize(1e-10) \n",
    "\n",
    "cell_2_model.setSpeciesConcentration('atc_e', 1e4, compartment = 'cell_external')\n",
    "cell_2_model.setSpeciesConcentration('ssDNA_comp1', 10, compartment = 'cell_2_internal')\n",
    "cell_2_model.setSpeciesConcentration('TRP', 10, compartment = 'cell_2_internal')\n",
    "cell_2_model.setSpeciesConcentration('dna_dna_vioA', 10, compartment = 'cell_2_internal')\n",
    "cell_2_model.setSpeciesConcentration('dna_dna_vioB', 10, compartment = 'cell_2_internal')\n",
    "cell_2_model.setSpeciesConcentration('dna_dna_vioE', 10, compartment = 'cell_2_internal')\n",
    "cell_2_model.setSpeciesConcentration('dna_dna_vioD', 10, compartment = 'cell_2_internal')\n",
    "\n",
    "cell_2_model.writeSBML('Models/m2fusion_cell1.xml')"
   ]
  },
  {
   "cell_type": "code",
   "execution_count": null,
   "metadata": {},
   "outputs": [],
   "source": [
    "ss5 = createSubsystem('Models/liposome_2.xml')\n",
    "mb4 = createSubsystem('Models/atc_membrane_cell3.xml', membrane = True)\n",
    "cell_3 =  System('cell_3',ListOfInternalSubsystems = [ss5],\n",
    "                 ListOfExternalSubsystems = [ss2],\n",
    "                 ListOfMembraneSubsystems = [mb4])\n",
    "\n",
    "cell_3_model = cell_3.getModel()\n",
    "\n",
    "cell_3_model.renameCompartments('cell_3_external', 'cell_external')\n",
    "cell_3_model.getSBMLDocument().getModel().getCompartment(0).setSize(1e-4) \n",
    "#cell_3_model.getSBMLDocument().getModel().getCompartment(1).setSize(1e-10) \n",
    "\n",
    "cell_3_model.setSpeciesConcentration('atc_e', 1e4, compartment = 'cell_external')\n",
    "cell_3_model.setSpeciesConcentration('ssDNA_comp2', 10, compartment = 'cell_3_internal')\n",
    "cell_3_model.setSpeciesConcentration('dna_dna_vioC', 10, compartment = 'cell_3_internal')\n",
    "\n",
    "cell_3_model.writeSBML('Models/m2fusion_cell2.xml')\n"
   ]
  },
  {
   "cell_type": "code",
   "execution_count": null,
   "metadata": {},
   "outputs": [],
   "source": [
    "system2 = createNewSubsystem() \n",
    "system2.combineSubsystems([cell_1_model, cell_2_model, cell_3_model], verbose=True)\n",
    "system2.writeSBML('Models/m2system2.xml')\n",
    "combmod2=system2.getSBMLDocument().getModel()\n",
    "combinemodel2=SimpleModel(combmod2)\n",
    "combinemodel2.createNewSpecies(ListOfSpecies = ['dsDNA'],sComp = 'cell_external_combined', ListOfAmounts = [0], \n",
    "                             sConstant = False)\n",
    "combinemodel2.createNewParameter(ListOfParameters = ['kf','kre'],\n",
    "                               ListOfValues = [100, 1e-7],\n",
    "                               pConstant = False, pUnit = 'per_second')\n",
    "combinemodel2.createSimpleReaction(rId = 'raa1',rStr = 'ssDNA_comp1 + ssDNA_comp2 + ssDNA_e <-> dsDNA',\n",
    "                                 rRate = 'kf * ssDNA_comp1 * ssDNA_comp2 * ssDNA_e - kre * dsDNA',\n",
    "                                 isConstant = False)\n",
    "\n",
    "system2.writeSBML('Models/m3system32.xml')\n"
   ]
  },
  {
   "cell_type": "code",
   "execution_count": null,
   "metadata": {},
   "outputs": [],
   "source": [
    "system2.setSpeciesConcentration('atc_e', 1e4, compartment = 'cell_external')\n",
    "system2.setSpeciesConcentration('ssDNA', 50, compartment = 'cell_1_internal')\n",
    "system2.setSpeciesConcentration('dna_g', 1, compartment = 'cell_1_internal')\n",
    "system2.setSpeciesConcentration('tetR', 10, compartment = 'cell_1_internal')\n",
    "system2.setSpeciesConcentration('ATP', 15, compartment = 'cell_1_internal')\n",
    "system2.setSpeciesConcentration('ssDNA_comp1', 10, compartment = 'cell_2_internal')\n",
    "system2.setSpeciesConcentration('ssDNA_comp2', 10, compartment = 'cell_3_internal')\n",
    "system2.writeSBML('Models/m3system32.xml')"
   ]
  },
  {
   "cell_type": "code",
   "execution_count": null,
   "metadata": {},
   "outputs": [],
   "source": [
    "timepoints = np.linspace(0,8000,400)\n",
    "result1, _ = system2.simulateWithBioscrape(timepoints)\n",
    "ssDNA_e_id1 = system2.getSpeciesByName('ssDNA_e', compartment = 'cell_external').getId()\n",
    "dsDNA_id2 =system2.getSpeciesByName('dsDNA').getId()\n",
    "vire2b_id2 =system2.getSpeciesByName('VirE2_b').getId()\n",
    "plt.figure(figsize=(12,6))\n",
    "plt.plot(timepoints, result1[ssDNA_e_id1], linewidth = 3, label = 'ssDNA_e')\n",
    "plt.plot(timepoints, result1[dsDNA_id2], linewidth = 3, label = 'dsDNA')\n",
    "plt.title(\"Model\")\n",
    "plt.xlabel('Time')\n",
    "plt.ylabel('Conc')\n",
    "plt.legend()\n",
    "plt.show()"
   ]
  },
  {
   "cell_type": "code",
   "execution_count": null,
   "metadata": {},
   "outputs": [],
   "source": [
    "%run myfusion.py"
   ]
  },
  {
   "cell_type": "code",
   "execution_count": null,
   "metadata": {},
   "outputs": [],
   "source": [
    "fused_cell,r1,t1,r2,t2= triggeredFusion ( [system2], [cell_2_model, cell_3_model], \"dsDNA\", \">\", .05, timepoints, mxstep=5)"
   ]
  },
  {
   "cell_type": "code",
   "execution_count": null,
   "metadata": {},
   "outputs": [],
   "source": [
    "print(r1)\n",
    "r1.to_csv('file1.csv') "
   ]
  },
  {
   "cell_type": "code",
   "execution_count": null,
   "metadata": {},
   "outputs": [],
   "source": [
    "r2\n",
    "r2.to_csv('file2.csv') "
   ]
  },
  {
   "cell_type": "code",
   "execution_count": null,
   "metadata": {},
   "outputs": [],
   "source": [
    "trp_id2 = cell_2_model.getSpeciesByName('TRP').getId()\n",
    "IPA_imine_id2 = cell_2_model.getSpeciesByName('IPA_imine').getId()\n",
    "IPA_imine_dimer_id2 = cell_2_model.getSpeciesByName('IPA_imine_dimer').getId()\n",
    "PTDVA_id2 = cell_2_model.getSpeciesByName('PTDVA', compartment = 'fusedcell_internal').getId()\n",
    "PTVA_id2 = cell_2_model.getSpeciesByName('PTVA', compartment = 'fusedcell_internal').getId()\n",
    "V_id3 = cell_3_model.getSpeciesByName('V', compartment = 'fusedcell_internal').getId()\n",
    "DV_id3 = cell_3_model.getSpeciesByName('DV', compartment = 'fusedcell_internal').getId()\n",
    "\n",
    "trp_id4 = fused_cell.getSpeciesByName('TRP').getId()\n",
    "IPA_imine_id4 = fused_cell.getSpeciesByName('IPA_imine').getId()\n",
    "IPA_imine_dimer_id4 = fused_cell.getSpeciesByName('IPA_imine_dimer').getId()\n",
    "PTDVA_id4 = fused_cell.getSpeciesByName('PTDVA', compartment = 'fusedcell_internal').getId()\n",
    "PTVA_id4 = fused_cell.getSpeciesByName('PTVA', compartment = 'fusedcell_internal').getId()\n",
    "V_id4 = fused_cell.getSpeciesByName('V', compartment = 'fusedcell_internal').getId()\n",
    "DV_id4 = fused_cell.getSpeciesByName('DV', compartment = 'fusedcell_internal').getId()\n",
    "\n",
    "dsDNA_id2 =system2.getSpeciesByName('dsDNA').getId()\n",
    "vire2b_id2 =system2.getSpeciesByName('VirE2_b').getId()"
   ]
  },
  {
   "cell_type": "code",
   "execution_count": null,
   "metadata": {},
   "outputs": [],
   "source": [
    "\n",
    "fused_plot = bokeh.plotting.figure(width = 800, height = 450, \n",
    "                         x_axis_label = 'time(sec)',\n",
    "                         y_axis_label = 'concentration',\n",
    "                         title = 'Export_Fusion_Violacein Plot')\n",
    "#used_plot.line(t1, r1[trp_id2], color = \"magenta\", line_width = 3, legend_label = 'TRP_cell2')\n",
    "fused_plot.line(t1, r1[IPA_imine_id2], color = \"cyan\",line_width = 3, legend_label = 'IPA_imine_cell2')\n",
    "fused_plot.line(t1, r1[IPA_imine_dimer_id2], color = \"green\",line_width = 3, legend_label = 'IPA_imine_dimer_cell2')\n",
    "fused_plot.line(t1, r1[PTDVA_id2], color = \"magenta\", line_width = 3, legend_label = 'PTDVA_cell2')\n",
    "#used_plot.line(t1, r1[PTVA_id2], color = \"teal\",line_width = 3, legend_label = 'PTVA_cell2')\n",
    "fused_plot.line(t1, r1[V_id3], color = \"lime\",line_width = 3, legend_label = 'V_cell3')\n",
    "fused_plot.line(t1, r1[DV_id3], color = \"orange\",line_width = 3, legend_label = 'DV_cell3')\n",
    "\n",
    "fused_plot.line(t2, r2[trp_id4], color = \"red\", line_width = 3,legend_label = 'TRP_fusedcell')\n",
    "fused_plot.line(t2, r2[IPA_imine_id4], color = \"blue\", line_width = 3,legend_label = 'IPA_imine_fusedcell')\n",
    "fused_plot.line(t2, r2[IPA_imine_dimer_id4], color = \"grey\", line_width = 3,legend_label = 'IPA_imine_dimer_fusedcell')\n",
    "fused_plot.line(t2, r2[PTDVA_id4], color = \"black\", line_width = 3,legend_label = 'PTDVA_fusedcell')\n",
    "fused_plot.line(t2, r2[PTVA_id4], color = \"pink\", line_width = 3,legend_label = 'PTDA_fusedcell')\n",
    "#used_plot.line(t2, r2[V_id4], color = \"brown\", line_width = 3,legend_label = 'V_fusedcell')\n",
    "#used_plot.line(t2, r2[DV_id4], color = \"yellow\", line_width = 3,legend_label = 'DV_fusedcell')\n",
    "\n",
    "#used_plot.line(timepoints, result1[ssDNA_e_id1], color = \"brown\", line_width = 3,legend_label = 'exported_DNA')\n",
    "#used_plot.line(timepoints, result1[dsDNA_id2], color = \"orange\", line_width = 3,legend_label = 'dsDNA')\n",
    "\n",
    "fused_plot.legend.location = 'top_right'\n",
    "fused_plot.legend.click_policy=\"hide\"\n",
    "\n",
    "bokeh.io.show(fused_plot)"
   ]
  },
  {
   "cell_type": "code",
   "execution_count": null,
   "metadata": {},
   "outputs": [],
   "source": []
  },
  {
   "cell_type": "code",
   "execution_count": null,
   "metadata": {},
   "outputs": [],
   "source": []
  }
 ],
 "metadata": {
  "kernelspec": {
   "display_name": "Python 3 (ipykernel)",
   "language": "python",
   "name": "python3"
  },
  "language_info": {
   "codemirror_mode": {
    "name": "ipython",
    "version": 3
   },
   "file_extension": ".py",
   "mimetype": "text/x-python",
   "name": "python",
   "nbconvert_exporter": "python",
   "pygments_lexer": "ipython3",
   "version": "3.9.15"
  }
 },
 "nbformat": 4,
 "nbformat_minor": 4
}
