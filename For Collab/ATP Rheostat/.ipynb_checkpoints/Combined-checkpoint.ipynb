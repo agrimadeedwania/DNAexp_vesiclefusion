{
 "cells": [
  {
   "cell_type": "markdown",
   "metadata": {},
   "source": [
    "# Model with ATP rheostat"
   ]
  },
  {
   "cell_type": "markdown",
   "metadata": {},
   "source": [
    "# Caution \n",
    "\n",
    "1) If reaction names and specie names (or maybe Id) are same for two reaction, they are combined. Remember to change the reaction name before combining models if you want same reactions to be present (even for different compartments).\n",
    "\n",
    "2) Do not change the membrane model and the external subsystem model. The ones that I have listed should be there. Add new models in the respective ListOfSubsystems according to mechanism you want to achieve.\n",
    "\n",
    "3) Change internal subsystem of cells (cell_2 and cell_3) to be fused according to the objective you want to achieve. \n",
    "\n",
    "4) Remeber to check the sbml file of generated model to verify if things are correct.\n",
    "\n",
    "5) I am printing result 1 and 2 inorder to check if fusion occur at right time, specie concentration are set correctly\n",
    "\n"
   ]
  },
  {
   "cell_type": "code",
   "execution_count": null,
   "metadata": {},
   "outputs": [],
   "source": [
    "from biocrnpyler import *\n",
    "import numpy as np\n",
    "import pylab as plt\n",
    "from subsbml import *\n",
    "import libsbml\n",
    "import bokeh.io\n",
    "import bokeh.plotting\n",
    "bokeh.io.output_notebook()"
   ]
  },
  {
   "cell_type": "markdown",
   "metadata": {},
   "source": [
    "# Make individual cell model"
   ]
  },
  {
   "cell_type": "code",
   "execution_count": null,
   "metadata": {},
   "outputs": [],
   "source": [
    "ss1 = createSubsystem('Models/protein_rheostat_export.xml')\n",
    "ss2 = createSubsystem('Models/atc_external_reservoir.xml')\n",
    "#ssext= createSubsystem('Models/dnaStrand_fusion_export.xml')\n",
    "\n",
    "# Create a simple atc membrane where atc goes in an out of the membrane via a reversible reaction\n",
    "mb1 = createSubsystem('Models/atc_membrane_export.xml', membrane = True)\n",
    "\n",
    "mb2 = createSubsystem('Models/dnaexp_membrane1.xml', membrane = True)\n",
    "\n",
    "cell_1 =  System('cell_1',ListOfInternalSubsystems = [ss1],\n",
    "                 ListOfExternalSubsystems = [ss2],\n",
    "                 ListOfMembraneSubsystems = [mb1,mb2])\n",
    "\n",
    "cell_1_model = cell_1.getModel()\n",
    "cell_1_model.renameCompartments('cell_1_external', 'cell_external')\n",
    "cell_1_model.getSBMLDocument().getModel().getCompartment(1).setSize(1e-4) \n",
    "#cell_1_model.getSBMLDocument().getModel().getCompartment(0).setSize(1e-10) \n",
    "cell_1_model.setSpeciesConcentration('atc_e', 1e4, compartment = 'cell_external')\n",
    "cell_1_model.setSpeciesConcentration('ssDNA', 50, compartment = 'cell_1_internal')\n",
    "cell_1_model.setSpeciesConcentration('dna_g', 1, compartment = 'cell_1_internal')\n",
    "cell_1_model.setSpeciesConcentration('tetR', 10, compartment = 'cell_1_internal')\n",
    "cell_1_model.setSpeciesConcentration('ATP', 15, compartment = 'cell_1_internal')\n",
    "cell_1_model.setSpeciesConcentration('molecule_glucose', 30, compartment = 'cell_1_internal')\n",
    "cell_1_model.setSpeciesConcentration('metabolite_nadp', 30, compartment = 'cell_1_internal')\n",
    "cell_1_model.setSpeciesConcentration('P', 30, compartment = 'cell_1_internal')\n",
    "cell_1_model.setSpeciesConcentration('enzyme_hex', 0.20, compartment = 'cell_1_internal')\n",
    "cell_1_model.setSpeciesConcentration('enzyme_pgi', 0.20, compartment = 'cell_1_internal')\n",
    "cell_1_model.setSpeciesConcentration('enzyme_pfk', 0.20, compartment = 'cell_1_internal')\n",
    "cell_1_model.setSpeciesConcentration('enzyme_ald_tpi', 0.20, compartment = 'cell_1_internal')\n",
    "cell_1_model.setSpeciesConcentration('enzyme_gapN', 0.20, compartment = 'cell_1_internal')\n",
    "cell_1_model.setSpeciesConcentration('enzyme_mGapDH', 0.20, compartment = 'cell_1_internal')\n",
    "cell_1_model.setSpeciesConcentration('enzyme_pgk', 0.20, compartment = 'cell_1_internal')\n",
    "cell_1_model.setSpeciesConcentration('enzyme_pgm', 0.20, compartment = 'cell_1_internal')\n",
    "cell_1_model.setSpeciesConcentration('enzyme_eno', 0.20, compartment = 'cell_1_internal')\n",
    "cell_1_model.setSpeciesConcentration('enzyme_pyk', 0.20, compartment = 'cell_1_internal')\n",
    "cell_1_model.setSpeciesConcentration('enzyme_alsS', 0.20, compartment = 'cell_1_internal')\n",
    "cell_1_model.setSpeciesConcentration('enzyme_IlvC', 0.20, compartment = 'cell_1_internal')\n",
    "cell_1_model.setSpeciesConcentration('enzyme_IlvD', 0.20, compartment = 'cell_1_internal')\n",
    "cell_1_model.setSpeciesConcentration('enzyme_kivD', 0.20, compartment = 'cell_1_internal')\n",
    "cell_1_model.setSpeciesConcentration('enzyme_yahk', 0.20, compartment = 'cell_1_internal')\n",
    "\n",
    "\n",
    "cell_1_model.writeSBML('Models/m2Dnaexp_cell.xml')"
   ]
  },
  {
   "cell_type": "code",
   "execution_count": null,
   "metadata": {},
   "outputs": [],
   "source": [
    "ss3 = createSubsystem('Models/comb_exsA_sub.xml')\n",
    "mb3 = createSubsystem('Models/atc_membrane_cell2.xml', membrane = True)\n",
    "cell_2 =  System('cell_2',ListOfInternalSubsystems = [ss3],\n",
    "                 ListOfExternalSubsystems = [ss2],\n",
    "                 ListOfMembraneSubsystems = [mb3])\n",
    "\n",
    "cell_2_model = cell_2.getModel()\n",
    "#cell_2_model.renameSName('atc_i', 'atc_i_cell2')\n",
    "cell_2_model.renameCompartments('cell_2_external', 'cell_external')\n",
    "cell_2_model.getSBMLDocument().getModel().getCompartment(0).setSize(1e-4) \n",
    "#cell_2_model.getSBMLDocument().getModel().getCompartment(1).setSize(1e-10) \n",
    "\n",
    "cell_2_model.setSpeciesConcentration('atc_e', 1e4, compartment = 'cell_external')\n",
    "cell_2_model.setSpeciesConcentration('ssDNA_comp1', 10, compartment = 'cell_2_internal')\n",
    "cell_2_model.setSpeciesConcentration('dna_f', 1, compartment = 'cell_2_internal')\n",
    "cell_2_model.setSpeciesConcentration('tetR', 10, compartment = 'cell_2_internal')\n",
    "cell_2_model.setSpeciesConcentration('ATP', 15, compartment = 'cell_2_internal')\n",
    "cell_2_model.setSpeciesConcentration('molecule_glucose', 30, compartment = 'cell_2_internal')\n",
    "cell_2_model.setSpeciesConcentration('metabolite_nadp', 30, compartment = 'cell_2_internal')\n",
    "cell_2_model.setSpeciesConcentration('P', 30, compartment = 'cell_2_internal')\n",
    "cell_2_model.setSpeciesConcentration('enzyme_hex', 0.20, compartment = 'cell_2_internal')\n",
    "cell_2_model.setSpeciesConcentration('enzyme_pgi', 0.20, compartment = 'cell_2_internal')\n",
    "cell_2_model.setSpeciesConcentration('enzyme_pfk', 0.20, compartment = 'cell_2_internal')\n",
    "cell_2_model.setSpeciesConcentration('enzyme_ald_tpi', 0.20, compartment = 'cell_2_internal')\n",
    "cell_2_model.setSpeciesConcentration('enzyme_gapN', 0.20, compartment = 'cell_2_internal')\n",
    "cell_2_model.setSpeciesConcentration('enzyme_mGapDH', 0.20, compartment = 'cell_2_internal')\n",
    "cell_2_model.setSpeciesConcentration('enzyme_pgk', 0.20, compartment = 'cell_2_internal')\n",
    "cell_2_model.setSpeciesConcentration('enzyme_pgm', 0.20, compartment = 'cell_2_internal')\n",
    "cell_2_model.setSpeciesConcentration('enzyme_eno', 0.20, compartment = 'cell_2_internal')\n",
    "cell_2_model.setSpeciesConcentration('enzyme_pyk', 0.20, compartment = 'cell_2_internal')\n",
    "cell_2_model.setSpeciesConcentration('enzyme_alsS', 0.20, compartment = 'cell_2_internal')\n",
    "cell_2_model.setSpeciesConcentration('enzyme_IlvC', 0.20, compartment = 'cell_2_internal')\n",
    "cell_2_model.setSpeciesConcentration('enzyme_IlvD', 0.20, compartment = 'cell_2_internal')\n",
    "cell_2_model.setSpeciesConcentration('enzyme_kivD', 0.20, compartment = 'cell_2_internal')\n",
    "cell_2_model.setSpeciesConcentration('enzyme_yahk', 0.20, compartment = 'cell_2_internal')\n",
    "\n",
    "\n",
    "cell_2_model.writeSBML('Models/m2fusion_cell1.xml')"
   ]
  },
  {
   "cell_type": "code",
   "execution_count": null,
   "metadata": {},
   "outputs": [],
   "source": [
    "ss5 = createSubsystem('Models/comb_gfp1_sub.xml')\n",
    "mb4 = createSubsystem('Models/atc_membrane_cell3.xml', membrane = True)\n",
    "cell_3 =  System('cell_3',ListOfInternalSubsystems = [ss5],\n",
    "                 ListOfExternalSubsystems = [ss2],\n",
    "                 ListOfMembraneSubsystems = [mb4])\n",
    "\n",
    "cell_3_model = cell_3.getModel()\n",
    "\n",
    "cell_3_model.renameCompartments('cell_3_external', 'cell_external')\n",
    "cell_3_model.getSBMLDocument().getModel().getCompartment(0).setSize(1e-4) \n",
    "#cell_3_model.getSBMLDocument().getModel().getCompartment(1).setSize(1e-10) \n",
    "\n",
    "cell_3_model.setSpeciesConcentration('atc_e', 1e4, compartment = 'cell_external')\n",
    "cell_3_model.setSpeciesConcentration('ssDNA_comp2', 10, compartment = 'cell_3_internal')\n",
    "cell_3_model.setSpeciesConcentration('dna_h', 1, compartment = 'cell_3_internal')\n",
    "cell_3_model.setSpeciesConcentration('ATP', 15, compartment = 'cell_3_internal')\n",
    "cell_3_model.setSpeciesConcentration('molecule_glucose', 30, compartment = 'cell_3_internal')\n",
    "cell_3_model.setSpeciesConcentration('metabolite_nadp', 30, compartment = 'cell_3_internal')\n",
    "cell_3_model.setSpeciesConcentration('P', 30, compartment = 'cell_3_internal')\n",
    "cell_3_model.setSpeciesConcentration('enzyme_hex', 0.20, compartment = 'cell_3_internal')\n",
    "cell_3_model.setSpeciesConcentration('enzyme_pgi', 0.20, compartment = 'cell_3_internal')\n",
    "cell_3_model.setSpeciesConcentration('enzyme_pfk', 0.20, compartment = 'cell_3_internal')\n",
    "cell_3_model.setSpeciesConcentration('enzyme_ald_tpi', 0.20, compartment = 'cell_3_internal')\n",
    "cell_3_model.setSpeciesConcentration('enzyme_gapN', 0.20, compartment = 'cell_3_internal')\n",
    "cell_3_model.setSpeciesConcentration('enzyme_mGapDH', 0.20, compartment = 'cell_3_internal')\n",
    "cell_3_model.setSpeciesConcentration('enzyme_pgk', 0.20, compartment = 'cell_3_internal')\n",
    "cell_3_model.setSpeciesConcentration('enzyme_pgm', 0.20, compartment = 'cell_3_internal')\n",
    "cell_3_model.setSpeciesConcentration('enzyme_eno', 0.20, compartment = 'cell_3_internal')\n",
    "cell_3_model.setSpeciesConcentration('enzyme_pyk', 0.20, compartment = 'cell_3_internal')\n",
    "cell_3_model.setSpeciesConcentration('enzyme_alsS', 0.20, compartment = 'cell_3_internal')\n",
    "cell_3_model.setSpeciesConcentration('enzyme_IlvC', 0.20, compartment = 'cell_3_internal')\n",
    "cell_3_model.setSpeciesConcentration('enzyme_IlvD', 0.20, compartment = 'cell_3_internal')\n",
    "cell_3_model.setSpeciesConcentration('enzyme_kivD', 0.20, compartment = 'cell_3_internal')\n",
    "cell_3_model.setSpeciesConcentration('enzyme_yahk', 0.20, compartment = 'cell_3_internal')\n",
    "\n",
    "cell_3_model.writeSBML('Models/m2fusion_cell2.xml')\n"
   ]
  },
  {
   "cell_type": "code",
   "execution_count": null,
   "metadata": {},
   "outputs": [],
   "source": [
    "system2 = createNewSubsystem() \n",
    "system2.combineSubsystems([cell_1_model, cell_2_model, cell_3_model], verbose=True)\n",
    "system2.writeSBML('Models/m2system2.xml')\n",
    "combmod2=system2.getSBMLDocument().getModel()\n",
    "combinemodel2=SimpleModel(combmod2)\n",
    "combinemodel2.createNewSpecies(ListOfSpecies = ['dsDNA'],sComp = 'cell_external_combined', ListOfAmounts = [0], \n",
    "                             sConstant = False)\n",
    "combinemodel2.createNewParameter(ListOfParameters = ['kf','kre'],\n",
    "                               ListOfValues = [100, 1e-7],\n",
    "                               pConstant = False, pUnit = 'per_second')\n",
    "combinemodel2.createSimpleReaction(rId = 'raa1',rStr = 'ssDNA_comp1 + ssDNA_comp2 + ssDNA_e <-> dsDNA',\n",
    "                                 rRate = 'kf * ssDNA_comp1 * ssDNA_comp2 * ssDNA_e - kre * dsDNA',\n",
    "                                 isConstant = False)\n",
    "\n",
    "system2.writeSBML('Models/m3system32.xml')\n"
   ]
  },
  {
   "cell_type": "code",
   "execution_count": null,
   "metadata": {},
   "outputs": [],
   "source": [
    "system2.setSpeciesConcentration('atc_e', 1e4, compartment = 'cell_external')\n",
    "system2.setSpeciesConcentration('ssDNA', 50, compartment = 'cell_1_internal')\n",
    "system2.setSpeciesConcentration('dna_g', 1, compartment = 'cell_1_internal')\n",
    "system2.setSpeciesConcentration('tetR', 10, compartment = 'cell_1_internal')\n",
    "system2.setSpeciesConcentration('ATP', 15, compartment = 'cell_1_internal')\n",
    "system2.setSpeciesConcentration('ssDNA_comp1', 10, compartment = 'cell_2_internal')\n",
    "system2.setSpeciesConcentration('dna_f', 1, compartment = 'cell_2_internal')\n",
    "system2.setSpeciesConcentration('tetR', 10, compartment = 'cell_2_internal')\n",
    "system2.setSpeciesConcentration('ATP', 15, compartment = 'cell_2_internal')\n",
    "system2.setSpeciesConcentration('ssDNA_comp2', 10, compartment = 'cell_3_internal')\n",
    "system2.setSpeciesConcentration('dna_h', 1, compartment = 'cell_3_internal')\n",
    "system2.setSpeciesConcentration('ATP', 15, compartment = 'cell_3_internal')\n",
    "system2.writeSBML('Models/m3system32.xml')"
   ]
  },
  {
   "cell_type": "code",
   "execution_count": null,
   "metadata": {},
   "outputs": [],
   "source": [
    "timepoints = np.linspace(0,45000,100000)\n",
    "result1, _ = system2.simulateWithBioscrape(timepoints)\n",
    "ssDNA_e_id1 = system2.getSpeciesByName('ssDNA_e', compartment = 'cell_external').getId()\n",
    "ATP_id1= system2.getSpeciesByName('ATP', compartment = 'cell_1_internal').getId()\n",
    "dsDNA_id2 =system2.getSpeciesByName('dsDNA').getId()\n",
    "vire2b_id2 =system2.getSpeciesByName('VirE2_b').getId()\n",
    "plt.figure(figsize=(12,6))\n",
    "plt.plot(timepoints, result1[ssDNA_e_id1], linewidth = 3, label = 'ssDNA_e')\n",
    "plt.plot(timepoints, result1[dsDNA_id2], linewidth = 3, label = 'dsDNA')\n",
    "plt.title(\"Model\")\n",
    "plt.xlabel('Time')\n",
    "plt.ylabel('Conc')\n",
    "plt.legend()\n",
    "plt.show()"
   ]
  },
  {
   "cell_type": "code",
   "execution_count": null,
   "metadata": {},
   "outputs": [],
   "source": [
    "%run myfusion.py"
   ]
  },
  {
   "cell_type": "code",
   "execution_count": null,
   "metadata": {},
   "outputs": [],
   "source": [
    "fused_cell,r1,t1,r2,t2= triggeredFusion ( [system2], [cell_2_model, cell_3_model], \"dsDNA\", \">\", 1, timepoints)"
   ]
  },
  {
   "cell_type": "code",
   "execution_count": null,
   "metadata": {},
   "outputs": [],
   "source": [
    "print(r1)"
   ]
  },
  {
   "cell_type": "code",
   "execution_count": null,
   "metadata": {},
   "outputs": [],
   "source": [
    "r2"
   ]
  },
  {
   "cell_type": "code",
   "execution_count": null,
   "metadata": {},
   "outputs": [],
   "source": [
    "gfp_cell3_id3 = cell_3_model.getSpeciesByName('gfp', compartment = 'fusedcell_internal').getId()\n",
    "exsA_cell2_id2 = cell_2_model.getSpeciesByName('exsA', compartment = 'fusedcell_internal').getId()\n",
    "exsA_cell3_id3 = cell_3_model.getSpeciesByName('exsA', compartment = 'fusedcell_internal').getId()\n",
    "gfp_fusedcell_id4 = fused_cell.getSpeciesByName('gfp', compartment = 'fusedcell_internal').getId()\n",
    "exsA_fusedcell_id4 = fused_cell.getSpeciesByName('exsA', compartment = 'fusedcell_internal').getId()\n",
    "ATP_id2= cell_2_model.getSpeciesByName('ATP', compartment = 'fusedcell_internal').getId()\n",
    "ATP_id3= cell_3_model.getSpeciesByName('ATP', compartment = 'fusedcell_internal').getId()\n",
    "ATP_id4= fused_cell.getSpeciesByName('ATP', compartment = 'fusedcell_internal').getId()\n",
    "dsDNA_id2 =system2.getSpeciesByName('dsDNA').getId()\n",
    "vire2b_id2 =system2.getSpeciesByName('VirE2_b').getId()"
   ]
  },
  {
   "cell_type": "code",
   "execution_count": null,
   "metadata": {},
   "outputs": [],
   "source": [
    "\n",
    "colors=['#1b9e77','#d95f02','#7570b3','#e7298a','#66a61e','#e6ab02','#a6761d']\n",
    "fused_plot = bokeh.plotting.figure(width = 800, height = 450, \n",
    "                         x_axis_label = 'time(sec)',\n",
    "                         y_axis_label = 'concentration',\n",
    "                         title = 'Export_Fusion_rheostat Plot')\n",
    "fused_plot.line(t1, r1[gfp_cell3_id3], color = \"magenta\", line_width = 6, legend_label = 'gfp_cell3')\n",
    "fused_plot.line(t1, r1[exsA_cell2_id2], color = \"cyan\",line_width = 3, legend_label = 'exsA_cell2')\n",
    "fused_plot.line(t1, r1[exsA_cell3_id3], color = \"green\",line_width = 3, legend_label = 'exsA_cell3')\n",
    "fused_plot.line(t2, r2[gfp_fusedcell_id4], color = \"red\", line_width = 3,legend_label = 'gfp_fusedcell')\n",
    "fused_plot.line(t2, r2[exsA_fusedcell_id4], color = \"blue\", line_width = 3,legend_label = 'exsA_fusedcell')\n",
    "fused_plot.line(timepoints, result1[ssDNA_e_id1], color = \"brown\", line_width = 3,legend_label = 'exported_DNA')\n",
    "fused_plot.line(timepoints, result1[dsDNA_id2], color = \"orange\", line_width = 3,legend_label = 'dsDNA')\n",
    "fused_plot.line(t2, r2[ATP_id4], color = \"grey\", line_width = 3,legend_label = 'ATP_fusedcell')\n",
    "#fused_plot.line(t1, r2[ATP_id3], color = \"teal\", line_width = 3,legend_label = 'ATP_cell3')\n",
    "#fused_plot.line(t1, r2[ATP_id2], color = \"pink\", line_width = 3,legend_label = 'ATP_cell2')\n",
    "fused_plot.line(timepoints, result1[ATP_id1], color = \"purple\", line_width = 3,legend_label = 'ATP_cell1')\n",
    "\n",
    "\n",
    "\n",
    "fused_plot.legend.location = 'top_right'\n",
    "fused_plot.legend.click_policy=\"hide\"\n",
    "\n",
    "bokeh.io.show(fused_plot)"
   ]
  },
  {
   "cell_type": "code",
   "execution_count": null,
   "metadata": {},
   "outputs": [],
   "source": []
  },
  {
   "cell_type": "code",
   "execution_count": null,
   "metadata": {},
   "outputs": [],
   "source": []
  }
 ],
 "metadata": {
  "kernelspec": {
   "display_name": "Python 3 (ipykernel)",
   "language": "python",
   "name": "python3"
  },
  "language_info": {
   "codemirror_mode": {
    "name": "ipython",
    "version": 3
   },
   "file_extension": ".py",
   "mimetype": "text/x-python",
   "name": "python",
   "nbconvert_exporter": "python",
   "pygments_lexer": "ipython3",
   "version": "3.9.15"
  }
 },
 "nbformat": 4,
 "nbformat_minor": 4
}
