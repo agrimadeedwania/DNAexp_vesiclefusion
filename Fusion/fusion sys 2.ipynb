{
 "cells": [
  {
   "cell_type": "code",
   "execution_count": null,
   "metadata": {},
   "outputs": [],
   "source": [
    "from subsbml import System, createSubsystem, combineSystems, createNewSubsystem\n",
    "import numpy as np\n",
    "import pylab as plt\n",
    "import bokeh.io\n",
    "import bokeh.plotting\n",
    "bokeh.io.output_notebook()"
   ]
  },
  {
   "cell_type": "markdown",
   "metadata": {},
   "source": [
    "# cell 1"
   ]
  },
  {
   "cell_type": "code",
   "execution_count": null,
   "metadata": {},
   "outputs": [],
   "source": [
    "ss1 = createSubsystem('fusion_sub1.xml')\n",
    "ss3 = createSubsystem('atc_external_reservoir.xml')\n",
    "mb1 = createSubsystem('membrane_atc.xml', membrane = True)\n",
    "cell_1 =  System('cell_1',ListOfInternalSubsystems = [ss1],\n",
    "                 ListOfExternalSubsystems = [ss3],\n",
    "                 ListOfMembraneSubsystems = [])\n",
    "\n",
    "cell_1_model = cell_1.getModel()\n",
    "cell_1_model.setSpeciesAmount('atc_e', 1e4, compartment = 'cell_1_external')\n",
    "cell_1_model.setSpeciesAmount('dna_f', 1, compartment = 'cell_1_internal')\n",
    "cell_1_model.setSpeciesAmount('tetR', 10, compartment = 'cell_1_internal')\n",
    "cell_1_model.setSpeciesAmount('ATP', 20, compartment = 'cell_1_internal')\n"
   ]
  },
  {
   "cell_type": "markdown",
   "metadata": {},
   "source": [
    "# cell 2"
   ]
  },
  {
   "cell_type": "code",
   "execution_count": null,
   "metadata": {},
   "outputs": [],
   "source": [
    "ss2 = createSubsystem('fusion_sub2.xml')\n",
    "ss3 = createSubsystem('atc_external_reservoir.xml')\n",
    "mb1 = createSubsystem('membrane_atc.xml', membrane = True)\n",
    "cell_2 =  System('cell_2',ListOfInternalSubsystems = [ss2],\n",
    "                 ListOfExternalSubsystems = [ss3],\n",
    "                 ListOfMembraneSubsystems = [mb1])\n",
    "cell_2_model = cell_2.getModel()\n",
    "cell_2_model.setSpeciesAmount('atc_e', 1e4, compartment = 'cell_2_external')\n",
    "cell_2_model.setSpeciesAmount('dna_h', 1, compartment = 'cell_2_internal')\n",
    "cell_2_model.setSpeciesAmount('ATP', 20, compartment = 'cell_2_internal')\n"
   ]
  },
  {
   "cell_type": "markdown",
   "metadata": {},
   "source": [
    "# prep. for fusing by changing compartment"
   ]
  },
  {
   "cell_type": "code",
   "execution_count": null,
   "metadata": {},
   "outputs": [],
   "source": [
    "cell_1_model.renameCompartments('cell_1_internal', 'cellfusedinternal')\n",
    "cell_1_model.renameCompartments('cell_1_external', 'cellfusedexternal')\n",
    "cell_2_model.renameCompartments('cell_2_internal', 'cellfusedinternal')\n",
    "cell_2_model.renameCompartments('cell_2_external', 'cellfusedexternal')\n",
    "cell_1_model.writeSBML('m2_cell_1_model.xml')\n",
    "cell_2_model.writeSBML('m2_cell_2_model.xml')"
   ]
  },
  {
   "cell_type": "markdown",
   "metadata": {},
   "source": [
    "# fusing subsystem"
   ]
  },
  {
   "cell_type": "code",
   "execution_count": null,
   "metadata": {},
   "outputs": [],
   "source": [
    "fus_comb=createNewSubsystem()\n",
    "fus_comb.combineSubsystems([cell_1_model,cell_2_model], verbose = True)\n",
    "\n",
    "_ = fus_comb.writeSBML('m2_fus_comb.xml')"
   ]
  },
  {
   "cell_type": "code",
   "execution_count": null,
   "metadata": {},
   "outputs": [],
   "source": [
    "timepoints = np.linspace(0,25000,10000)\n",
    "results_1, _ = cell_1_model.simulateWithBioscrape(timepoints)\n",
    "results_2, _ = cell_2_model.simulateWithBioscrape(timepoints)\n",
    "results_3, _ = fus_comb.simulateWithBioscrape(timepoints)\n",
    "exsA_id1 = cell_1_model.getSpeciesByName('exsA', compartment = 'cellfusedinternal').getId()\n",
    "gfp_id2 = cell_2_model.getSpeciesByName('gfp', compartment = 'cellfusedinternal').getId()\n",
    "gfp_id3 = fus_comb.getSpeciesByName('gfp', compartment = 'cellfusedinternal').getId()\n",
    "exsA_id2 = fus_comb.getSpeciesByName('exsA', compartment = 'cellfusedinternal').getId()\n",
    "\n",
    "colors=['#1b9e77','#d95f02','#7570b3','#e7298a','#66a61e','#e6ab02','#a6761d']\n",
    "fused_plot = bokeh.plotting.figure(width = 800, height = 450, \n",
    "                         x_axis_label = 'time(sec)',\n",
    "                         y_axis_label = 'concentration',\n",
    "                         title = 'Fusion Plot')\n",
    "fused_plot.line(timepoints, results_1[exsA_id1], color = \"blue\", line_width = 3, legend_label = 'exsA_cell1')\n",
    "fused_plot.line(timepoints, results_2[gfp_id2], color = \"cyan\",line_width = 3, legend_label = 'gfp_cell2')\n",
    "fused_plot.line(timepoints, results_3[gfp_id3], color = \"green\",line_width = 3, legend_label = 'gfp_fusedcell')\n",
    "fused_plot.line(timepoints, results_3[exsA_id2], color = \"red\", line_width = 3,legend_label = 'exsA_fusedcell')\n",
    "fused_plot.legend.location = 'center_right'\n",
    "fused_plot.legend.click_policy=\"hide\"\n",
    "\n",
    "bokeh.io.show(fused_plot)\n"
   ]
  },
  {
   "cell_type": "code",
   "execution_count": null,
   "metadata": {},
   "outputs": [],
   "source": [
    "results_3"
   ]
  },
  {
   "cell_type": "code",
   "execution_count": null,
   "metadata": {},
   "outputs": [],
   "source": []
  }
 ],
 "metadata": {
  "kernelspec": {
   "display_name": "Python 3 (ipykernel)",
   "language": "python",
   "name": "python3"
  },
  "language_info": {
   "codemirror_mode": {
    "name": "ipython",
    "version": 3
   },
   "file_extension": ".py",
   "mimetype": "text/x-python",
   "name": "python",
   "nbconvert_exporter": "python",
   "pygments_lexer": "ipython3",
   "version": "3.9.15"
  }
 },
 "nbformat": 4,
 "nbformat_minor": 4
}
