{
 "cells": [
  {
   "cell_type": "code",
   "execution_count": 1,
   "metadata": {},
   "outputs": [],
   "source": [
    "from subsbml import System, createSubsystem, combineSystems, createNewSubsystem\n",
    "import numpy as np\n",
    "import pylab as plt\n"
   ]
  },
  {
   "cell_type": "markdown",
   "metadata": {},
   "source": [
    "# cell 1"
   ]
  },
  {
   "cell_type": "code",
   "execution_count": 2,
   "metadata": {},
   "outputs": [
    {
     "name": "stdout",
     "output_type": "stream",
     "text": [
      "The subsystem from membrane_atc.xml has multiple compartments\n"
     ]
    },
    {
     "data": {
      "text/plain": [
       "True"
      ]
     },
     "execution_count": 2,
     "metadata": {},
     "output_type": "execute_result"
    }
   ],
   "source": [
    "ss1 = createSubsystem('fusion_sub1.xml')\n",
    "ss3 = createSubsystem('atc_external_reservoir.xml')\n",
    "mb1 = createSubsystem('membrane_atc.xml', membrane = True)\n",
    "cell_1 =  System('cell_1',ListOfInternalSubsystems = [ss1],\n",
    "                 ListOfExternalSubsystems = [ss3],\n",
    "                 ListOfMembraneSubsystems = [mb1])\n",
    "\n",
    "cell_1_model = cell_1.getModel()\n",
    "cell_1_model.setSpeciesAmount('atc_e', 1e4, compartment = 'cell_1_external')\n",
    "cell_1_model.setSpeciesAmount('dna_f', 1, compartment = 'cell_1_internal')\n",
    "cell_1_model.setSpeciesAmount('tetR', 10, compartment = 'cell_1_internal')\n",
    "cell_1_model.setSpeciesAmount('ATP', 20, compartment = 'cell_1_internal')\n"
   ]
  },
  {
   "cell_type": "markdown",
   "metadata": {},
   "source": [
    "# cell 2"
   ]
  },
  {
   "cell_type": "code",
   "execution_count": 3,
   "metadata": {},
   "outputs": [
    {
     "name": "stdout",
     "output_type": "stream",
     "text": [
      "The subsystem from membrane_atc.xml has multiple compartments\n"
     ]
    },
    {
     "data": {
      "text/plain": [
       "True"
      ]
     },
     "execution_count": 3,
     "metadata": {},
     "output_type": "execute_result"
    }
   ],
   "source": [
    "ss2 = createSubsystem('fusion_sub2.xml')\n",
    "ss3 = createSubsystem('atc_external_reservoir.xml')\n",
    "mb1 = createSubsystem('membrane_atc.xml', membrane = True)\n",
    "cell_2 =  System('cell_2',ListOfInternalSubsystems = [ss2],\n",
    "                 ListOfExternalSubsystems = [ss3],\n",
    "                 ListOfMembraneSubsystems = [mb1])\n",
    "cell_2_model = cell_2.getModel()\n",
    "cell_2_model.setSpeciesAmount('atc_e', 1e4, compartment = 'cell_2_external')\n",
    "cell_2_model.setSpeciesAmount('dna_h', 1, compartment = 'cell_2_internal')\n",
    "cell_2_model.setSpeciesAmount('ATP', 20, compartment = 'cell_2_internal')\n"
   ]
  },
  {
   "cell_type": "markdown",
   "metadata": {},
   "source": [
    "# prep. for fusing by changing compartment"
   ]
  },
  {
   "cell_type": "code",
   "execution_count": 4,
   "metadata": {},
   "outputs": [
    {
     "data": {
      "text/plain": [
       "1"
      ]
     },
     "execution_count": 4,
     "metadata": {},
     "output_type": "execute_result"
    }
   ],
   "source": [
    "cell_1_model.renameCompartments('cell_1_internal', 'cellfusedinternal')\n",
    "cell_1_model.renameCompartments('cell_1_external', 'cellfusedexternal')\n",
    "cell_2_model.renameCompartments('cell_2_internal', 'cellfusedinternal')\n",
    "cell_2_model.renameCompartments('cell_2_external', 'cellfusedexternal')\n",
    "cell_1_model.writeSBML('m2_cell_1_model.xml')\n",
    "cell_2_model.writeSBML('m2_cell_2_model.xml')"
   ]
  },
  {
   "cell_type": "markdown",
   "metadata": {},
   "source": [
    "# fusing subsystem"
   ]
  },
  {
   "cell_type": "code",
   "execution_count": 5,
   "metadata": {},
   "outputs": [
    {
     "name": "stderr",
     "output_type": "stream",
     "text": [
      "C:\\Users\\Agrima\\anaconda3\\lib\\site-packages\\subsbml-0.1-py3.7.egg\\subsbml\\Subsystem.py:646: UserWarning: Not all of the Subsystems being combined are in the same Compartment\n",
      "C:\\Users\\Agrima\\anaconda3\\lib\\site-packages\\subsbml-0.1-py3.7.egg\\subsbml\\Subsystem.py:987: UserWarning: Annotated propensity updated to: <PropensityType> type=massaction k=2e-05  </PropensityType>\n",
      "C:\\Users\\Agrima\\anaconda3\\lib\\site-packages\\subsbml-0.1-py3.7.egg\\subsbml\\Subsystem.py:987: UserWarning: Annotated propensity updated to: <PropensityType> type=massaction k=2e-09  </PropensityType>\n",
      "C:\\Users\\Agrima\\anaconda3\\lib\\site-packages\\subsbml-0.1-py3.7.egg\\subsbml\\Subsystem.py:987: UserWarning: Annotated propensity updated to: <PropensityType> type=massaction k=4e-07  </PropensityType>\n",
      "C:\\Users\\Agrima\\anaconda3\\lib\\site-packages\\subsbml-0.1-py3.7.egg\\subsbml\\Subsystem.py:987: UserWarning: Annotated propensity updated to: <PropensityType> type=massaction k=1e-12  </PropensityType>\n",
      "C:\\Users\\Agrima\\anaconda3\\lib\\site-packages\\subsbml-0.1-py3.7.egg\\subsbml\\Subsystem.py:987: UserWarning: Annotated propensity updated to: <PropensityType> type=massaction k=6e-08  </PropensityType>\n",
      "C:\\Users\\Agrima\\anaconda3\\lib\\site-packages\\subsbml-0.1-py3.7.egg\\subsbml\\Subsystem.py:987: UserWarning: Annotated propensity updated to: <PropensityType> type=massaction k=3e-09  </PropensityType>\n",
      "C:\\Users\\Agrima\\anaconda3\\lib\\site-packages\\subsbml-0.1-py3.7.egg\\subsbml\\Subsystem.py:987: UserWarning: Annotated propensity updated to: <PropensityType> type=massaction k=5e-05  </PropensityType>\n",
      "C:\\Users\\Agrima\\anaconda3\\lib\\site-packages\\subsbml-0.1-py3.7.egg\\subsbml\\Subsystem.py:987: UserWarning: Annotated propensity updated to: <PropensityType> type=massaction k=1e-10  </PropensityType>\n",
      "C:\\Users\\Agrima\\anaconda3\\lib\\site-packages\\subsbml-0.1-py3.7.egg\\subsbml\\Subsystem.py:987: UserWarning: Annotated propensity updated to: <PropensityType> type=massaction k=0.001875  </PropensityType>\n",
      "C:\\Users\\Agrima\\anaconda3\\lib\\site-packages\\subsbml-0.1-py3.7.egg\\subsbml\\Subsystem.py:987: UserWarning: Annotated propensity updated to: <PropensityType> type=proportionalhillpositive k=0.0007 K=1 n=1 s1=ATP_biocrnpyler_652128 d=rna_f_biocrnpyler_652128  </PropensityType>\n",
      "C:\\Users\\Agrima\\anaconda3\\lib\\site-packages\\subsbml-0.1-py3.7.egg\\subsbml\\Subsystem.py:987: UserWarning: Annotated propensity updated to: <PropensityType> type=massaction k=0.001  </PropensityType>\n",
      "C:\\Users\\Agrima\\anaconda3\\lib\\site-packages\\subsbml-0.1-py3.7.egg\\subsbml\\Subsystem.py:987: UserWarning: Annotated propensity updated to: <PropensityType> type=massaction k=4e-05  </PropensityType>\n",
      "C:\\Users\\Agrima\\anaconda3\\lib\\site-packages\\subsbml-0.1-py3.7.egg\\subsbml\\Subsystem.py:987: UserWarning: Annotated propensity updated to: <PropensityType> type=proportionalhillpositive k=0.0007 K=1 n=1 s1=ATP_biocrnpyler_942793 d=rna_h_biocrnpyler_942793  </PropensityType>\n",
      "C:\\Users\\Agrima\\anaconda3\\lib\\site-packages\\subsbml-0.1-py3.7.egg\\subsbml\\Subsystem.py:1171: UserWarning: Removing duplicate species atc_e_external_reservoir_model_1_combined_1_combined in the same compartment\n",
      "C:\\Users\\Agrima\\anaconda3\\lib\\site-packages\\subsbml-0.1-py3.7.egg\\subsbml\\Subsystem.py:1171: UserWarning: Removing duplicate species exsA_biocrnpyler_652128_1_combined in the same compartment\n",
      "C:\\Users\\Agrima\\anaconda3\\lib\\site-packages\\subsbml-0.1-py3.7.egg\\subsbml\\Subsystem.py:1171: UserWarning: Removing duplicate species ATP_biocrnpyler_652128_1_combined in the same compartment\n",
      "C:\\Users\\Agrima\\anaconda3\\lib\\site-packages\\subsbml-0.1-py3.7.egg\\subsbml\\Subsystem.py:1171: UserWarning: Removing duplicate species ADP_biocrnpyler_652128_1_combined in the same compartment\n",
      "C:\\Users\\Agrima\\anaconda3\\lib\\site-packages\\subsbml-0.1-py3.7.egg\\subsbml\\Subsystem.py:1131: UserWarning: Species with same name have different units. They will not be combined. For atc_i species id.\n",
      "C:\\Users\\Agrima\\anaconda3\\lib\\site-packages\\subsbml-0.1-py3.7.egg\\subsbml\\Subsystem.py:1171: UserWarning: Removing duplicate species P_biocrnpyler_652128_1_combined in the same compartment\n",
      "C:\\Users\\Agrima\\anaconda3\\lib\\site-packages\\subsbml-0.1-py3.7.egg\\subsbml\\Subsystem.py:1280: UserWarning: Removing duplicate parameter kb from the combined model\n",
      "C:\\Users\\Agrima\\anaconda3\\lib\\site-packages\\subsbml-0.1-py3.7.egg\\subsbml\\Subsystem.py:1280: UserWarning: Removing duplicate parameter kd from the combined model\n",
      "C:\\Users\\Agrima\\anaconda3\\lib\\site-packages\\subsbml-0.1-py3.7.egg\\subsbml\\Subsystem.py:1498: UserWarning: Removing all duplicates of the reaction atc_e <-> atc_i in the combined model. Check the reaction rate to ensure model is consistent.\n",
      "C:\\Users\\Agrima\\anaconda3\\lib\\site-packages\\subsbml-0.1-py3.7.egg\\subsbml\\Subsystem.py:1545: UserWarning: UnitDefinition with identifier square_metre does not have a name argument. To avoid duplication, use name argument\n",
      "C:\\Users\\Agrima\\anaconda3\\lib\\site-packages\\subsbml-0.1-py3.7.egg\\subsbml\\Subsystem.py:1545: UserWarning: UnitDefinition with identifier per_second does not have a name argument. To avoid duplication, use name argument\n",
      "C:\\Users\\Agrima\\anaconda3\\lib\\site-packages\\subsbml-0.1-py3.7.egg\\subsbml\\Subsystem.py:1545: UserWarning: UnitDefinition with identifier substance does not have a name argument. To avoid duplication, use name argument\n",
      "C:\\Users\\Agrima\\anaconda3\\lib\\site-packages\\subsbml-0.1-py3.7.egg\\subsbml\\Subsystem.py:987: UserWarning: Annotated propensity updated to: <PropensityType> type=proportionalhillpositive k=0.0007 K=1 n=1 s1=ATP_biocrnpyler_652128_1_combined d=rna_f_biocrnpyler_652128  </PropensityType>\n",
      "C:\\Users\\Agrima\\anaconda3\\lib\\site-packages\\subsbml-0.1-py3.7.egg\\subsbml\\Subsystem.py:987: UserWarning: Annotated propensity updated to: <PropensityType> type=proportionalhillpositive k=0.0007 K=1 n=1 s1=ATP_biocrnpyler_652128_1_combined d=rna_h_biocrnpyler_942793  </PropensityType>\n"
     ]
    }
   ],
   "source": [
    "fus_comb=createNewSubsystem()\n",
    "fus_comb.combineSubsystems([cell_1_model,cell_2_model], verbose = True)\n",
    "\n",
    "_ = fus_comb.writeSBML('m2_fus_comb.xml')"
   ]
  },
  {
   "cell_type": "code",
   "execution_count": 6,
   "metadata": {},
   "outputs": [
    {
     "name": "stderr",
     "output_type": "stream",
     "text": [
      "C:\\Users\\Agrima\\anaconda3\\lib\\site-packages\\bioscrape\\sbmlutil.py:93: UserWarning: SBML model contains reversible reaction!\n",
      "Please check rate expressions and ensure they are non-negative before doing stochastic simulations.\n",
      "  'Please check rate expressions and ensure they are non-negative before doing '+\n",
      "C:\\Users\\Agrima\\anaconda3\\lib\\site-packages\\bioscrape\\sbmlutil.py:208: UserWarning: Compartments, UnitDefintions, Events, and some other SBML model components are not recognized by bioscrape. Refer to the bioscrape wiki for more information.\n",
      "  warnings.warn('Compartments, UnitDefintions, Events, and some other SBML model components are not recognized by bioscrape. ' +\n",
      "C:\\Users\\Agrima\\anaconda3\\lib\\site-packages\\bioscrape\\sbmlutil.py:93: UserWarning: SBML model contains reversible reaction!\n",
      "Please check rate expressions and ensure they are non-negative before doing stochastic simulations.\n",
      "  'Please check rate expressions and ensure they are non-negative before doing '+\n",
      "C:\\Users\\Agrima\\anaconda3\\lib\\site-packages\\bioscrape\\sbmlutil.py:208: UserWarning: Compartments, UnitDefintions, Events, and some other SBML model components are not recognized by bioscrape. Refer to the bioscrape wiki for more information.\n",
      "  warnings.warn('Compartments, UnitDefintions, Events, and some other SBML model components are not recognized by bioscrape. ' +\n",
      "C:\\Users\\Agrima\\anaconda3\\lib\\site-packages\\IPython\\core\\pylabtools.py:132: UserWarning: Creating legend with loc=\"best\" can be slow with large amounts of data.\n",
      "  fig.canvas.print_figure(bytes_io, **kw)\n"
     ]
    },
    {
     "data": {
      "image/png": "[encoded data removed]",
      "text/plain": [
       "<Figure size 432x288 with 1 Axes>"
      ]
     },
     "metadata": {
      "needs_background": "light"
     },
     "output_type": "display_data"
    }
   ],
   "source": [
    "timepoints = np.linspace(0,50000,1000000)\n",
    "results_1, _ = cell_1_model.simulateWithBioscrape(timepoints)\n",
    "results_2, _ = cell_2_model.simulateWithBioscrape(timepoints)\n",
    "results_3, _ = fus_comb.simulateWithBioscrape(timepoints)\n",
    "exsA_id1 = cell_1_model.getSpeciesByName('exsA', compartment = 'cellfusedinternal').getId()\n",
    "gfp_id2 = cell_2_model.getSpeciesByName('gfp', compartment = 'cellfusedinternal').getId()\n",
    "gfp_id3 = fus_comb.getSpeciesByName('gfp', compartment = 'cellfusedinternal').getId()\n",
    "exsA_id2 = fus_comb.getSpeciesByName('exsA', compartment = 'cellfusedinternal').getId()\n",
    "\n",
    "plt.plot(timepoints, results_1[exsA_id1], linewidth = 3, label = 'exsA')\n",
    "plt.plot(timepoints, results_2[gfp_id2], linewidth = 3, label = 'gfp_cell2')\n",
    "plt.plot(timepoints, results_3[gfp_id3], linewidth = 3, label = 'gfp_fused cell')\n",
    "plt.plot(timepoints, results_3[exsA_id2], linewidth = 3, label = 'exsA_fused cell')\n",
    "\n",
    "plt.xlabel('Time')\n",
    "plt.ylabel('Conc')\n",
    "plt.legend()\n",
    "plt.show()"
   ]
  },
  {
   "cell_type": "code",
   "execution_count": null,
   "metadata": {},
   "outputs": [],
   "source": []
  },
  {
   "cell_type": "code",
   "execution_count": null,
   "metadata": {},
   "outputs": [],
   "source": []
  }
 ],
 "metadata": {
  "kernelspec": {
   "display_name": "Python 3",
   "language": "python",
   "name": "python3"
  },
  "language_info": {
   "codemirror_mode": {
    "name": "ipython",
    "version": 3
   },
   "file_extension": ".py",
   "mimetype": "text/x-python",
   "name": "python",
   "nbconvert_exporter": "python",
   "pygments_lexer": "ipython3",
   "version": "3.7.7"
  }
 },
 "nbformat": 4,
 "nbformat_minor": 4
}
