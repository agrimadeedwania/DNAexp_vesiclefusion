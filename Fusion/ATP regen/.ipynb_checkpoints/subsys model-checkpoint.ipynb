{
 "cells": [
  {
   "cell_type": "markdown",
   "metadata": {},
   "source": [
    "# fusion sub1"
   ]
  },
  {
   "cell_type": "code",
   "execution_count": 1,
   "metadata": {},
   "outputs": [
    {
     "name": "stderr",
     "output_type": "stream",
     "text": [
      "C:\\Users\\Agrima\\anaconda3\\lib\\site-packages\\biocrnpyler-0.2.1-py3.7.egg\\biocrnpyler\\__init__.py:37: UserWarning: No module named 'fa2'\n",
      "C:\\Users\\Agrima\\anaconda3\\lib\\site-packages\\biocrnpyler-0.2.1-py3.7.egg\\biocrnpyler\\__init__.py:38: UserWarning: plotting is disabled because you are missing some libraries\n"
     ]
    },
    {
     "name": "stdout",
     "output_type": "stream",
     "text": [
      "Model written to a SBML file successfully\n"
     ]
    }
   ],
   "source": [
    "from biocrnpyler import *\n",
    "import numpy as np\n",
    "import pylab as plt\n",
    "\n",
    "exsA = Species (\"exsA\") \n",
    "repressor = Species(\"tetR\")\n",
    "dna_f= Species (\"dna_f\")\n",
    "rna_f= Species (\"rna_f\")\n",
    "ATP= Species (\"ATP\")\n",
    "ADP= Species (\"ADP\")\n",
    "atc_i = Species(\"atc_i\") # material_type = \"ligand\")\n",
    "p= Species(\"P\")\n",
    "d_f= ComplexSpecies([dna_f,repressor])\n",
    "d_f_atc= ComplexSpecies([dna_f,repressor,atc_i])\n",
    "\n",
    "\n",
    "\n",
    "#Create a ChemicalComplex to model ligand-repressor bindning\n",
    "inactive_repressor = ChemicalComplex([repressor, atc_i])\n",
    "\n",
    "species=[dna_f, repressor, rna_f, exsA, ATP,ADP, atc_i, inactive_repressor.get_species(), d_f, d_f_atc, p]\n",
    "\n",
    "rex1=Reaction([atc_i, repressor], [inactive_repressor.get_species()], propensity_type = \"massaction\",k= 2e-5, k_rev=2e-9)\n",
    "rex2=Reaction([dna_f, repressor], [d_f], propensity_type = \"massaction\", k= 4e-7, k_rev= 1e-12) #1e+11 #1\n",
    "rex3=Reaction([d_f,atc_i ], [d_f_atc], propensity_type = \"massaction\",k= 6e-8, k_rev= 3e-9 ) # 6.5e+7 #10\n",
    "rex4=Reaction([d_f_atc], [dna_f, inactive_repressor.get_species()], propensity_type = \"massaction\", k= 5e-5, k_rev=1e-10 ) #1000,10\n",
    "rex5=Reaction([dna_f], [dna_f, rna_f], propensity_type = \"massaction\", k=.001875)  #{\"k\":18.75, \"n\":2, \"K\":20, \"s1\":repressor, \"d\":dna_g}\n",
    "rex6=Reaction([rna_f, ATP], [rna_f, ADP, exsA,p], propensity_type = \"proportionalhillpositive\", propensity_params = {\"k\":0.0007, \"n\":1, \"K\":1, \"s1\":ATP, \"d\":rna_f}) \n",
    "rex7=Reaction([rna_f], [], propensity_type = \"massaction\", k= .001)\n",
    "#rex8=Reaction([exsA], [], propensity_type = \"massaction\", k= 1e-5)\n",
    "\n",
    "\n",
    "r=[rex1, rex2, rex3, rex4, rex5, rex6, rex7 ]\n",
    "\n",
    "CRN1 = ChemicalReactionNetwork(species = species, reactions = r)\n",
    "\n",
    "sub1 = CRN1.write_sbml_file('fusion_sub1.xml')\n",
    "print('Model written to a SBML file successfully')\n",
    "\n"
   ]
  },
  {
   "cell_type": "markdown",
   "metadata": {},
   "source": [
    "# fusion sub2"
   ]
  },
  {
   "cell_type": "code",
   "execution_count": 2,
   "metadata": {},
   "outputs": [
    {
     "name": "stdout",
     "output_type": "stream",
     "text": [
      "Model written to a SBML file successfully\n"
     ]
    }
   ],
   "source": [
    "from biocrnpyler import *\n",
    "import numpy as np\n",
    "import pylab as plt\n",
    "\n",
    "activator = Species (\"exsA\") \n",
    "dna_h= Species (\"dna_h\")\n",
    "rna_h= Species (\"rna_h\")\n",
    "ATP= Species (\"ATP\")\n",
    "ADP= Species (\"ADP\")\n",
    "p= Species(\"P\")\n",
    "d_a= ComplexSpecies([dna_h,activator])\n",
    "gfp= Species(\"gfp\")\n",
    "\n",
    "species2=[dna_h, rna_h, activator, ATP, ADP, p, d_a, gfp]\n",
    "\n",
    "r1=Reaction([dna_h, activator], [d_a], propensity_type = \"massaction\", k= 4e-5, k_rev= 1e-12) \n",
    "r2=Reaction([d_a], [d_a, rna_h], propensity_type =  \"massaction\", k=.001875)  #{\"k\":18.75, \"n\":2, \"K\":20, \"s1\":repressor, \"d\":dna_g}\n",
    "#r3=Reaction([dna_h], [dna_h, rna_h], propensity_type = \"massaction\", k= .000001) #leak\n",
    "r4=Reaction([rna_h, ATP], [rna_h, ADP, gfp, p], propensity_type = \"proportionalhillpositive\", propensity_params = {\"k\":0.0007, \"n\":1, \"K\":1, \"s1\":ATP, \"d\":rna_h}) \n",
    "r5=Reaction([rna_h], [], propensity_type = \"massaction\", k= .001) \n",
    "#r6=Reaction([gfp], [], propensity_type = \"massaction\", k= 1e-5)\n",
    "\n",
    "\n",
    "rex=[r1, r2, r4, r5]\n",
    "\n",
    "CRN2 = ChemicalReactionNetwork(species = species2, reactions = rex)\n",
    "\n",
    "sub2 = CRN2.write_sbml_file('fusion_sub2.xml')\n",
    "print('Model written to a SBML file successfully')\n",
    "\n"
   ]
  },
  {
   "cell_type": "markdown",
   "metadata": {},
   "source": [
    " # atc external reservoir"
   ]
  },
  {
   "cell_type": "code",
   "execution_count": 3,
   "metadata": {},
   "outputs": [
    {
     "name": "stdout",
     "output_type": "stream",
     "text": [
      "Model written to a SBML file successfully\n"
     ]
    }
   ],
   "source": [
    "##### Creating atc reservoir model####\n",
    "\n",
    "from subsbml import createBasicSubsystem, SimpleModel\n",
    "import libsbml\n",
    "\n",
    "atc_ss, atc_model = createBasicSubsystem('external_reservoir')\n",
    "\n",
    "per_second = atc_model.createNewUnitDefinition(uId = 'per_second',uKind = libsbml.UNIT_KIND_SECOND,\n",
    "                                                uExponent = -1)\n",
    "substance = atc_model.createNewUnitDefinition('substance',libsbml.UNIT_KIND_DIMENSIONLESS, uExponent = 1)\n",
    "\n",
    "\n",
    "atc_model.createNewSpecies('atc_e',sComp = 'external_reservoir', ListOfAmounts = 1e+4, \n",
    "                             sConstant = False, sSubstance = 'substance')\n",
    "\n",
    "# Write to SBML file \n",
    "exsub = atc_ss.writeSBML('atc_external_reservoir.xml')\n",
    "print('Model written to a SBML file successfully')"
   ]
  },
  {
   "cell_type": "markdown",
   "metadata": {},
   "source": [
    "## atc simple membrane model"
   ]
  },
  {
   "cell_type": "code",
   "execution_count": 4,
   "metadata": {},
   "outputs": [
    {
     "name": "stdout",
     "output_type": "stream",
     "text": [
      "Model written to a SBML file successfully\n"
     ]
    }
   ],
   "source": [
    "##### Creating a basic membrane model for IPTG transport####\n",
    "\n",
    "from subsbml import createNewSubsystem, SimpleModel, SimpleReaction\n",
    "\n",
    "atc_mb_ss = createNewSubsystem()\n",
    "model = atc_mb_ss.createNewModel('atc_membrane','second','mole','substance')\n",
    "\n",
    "atc_mb = SimpleModel(model)\n",
    "\n",
    "per_second = atc_mb.createNewUnitDefinition('per_second',libsbml.UNIT_KIND_SECOND,-1,0,1)\n",
    "substance = atc_mb.createNewUnitDefinition('substance',libsbml.UNIT_KIND_DIMENSIONLESS, 1, 0, 1)\n",
    "\n",
    "################# Two important lines of code when creating membrane #########################\n",
    "atc_mb.createNewCompartment('internal','internal',1e-6,'litre',True)\n",
    "atc_mb.createNewCompartment('external','external',1e-6,'litre',True)\n",
    "##############################################################################################\n",
    "\n",
    "atc_mb.createNewSpecies( 'atc_e','external',0,False,'substance')\n",
    "atc_mb.createNewSpecies( 'atc_i','internal',0,False,'substance')\n",
    "\n",
    "atc_mb.createNewParameter( 'kb',2e-3,False,'per_second')\n",
    "atc_mb.createNewParameter( 'kd',1e-5,False,'per_second')\n",
    "\n",
    "r1_sbml = model.createReaction()\n",
    "r1 = SimpleReaction(r1_sbml)\n",
    "r1.setId('r1')\n",
    "r1.setReversible(True)\n",
    "r1.createNewReactant('atc_e',False,1)\n",
    "r1.createNewProduct('atc_i', False, 1)\n",
    "r1.createRate('kb * atc_e - kd * atc_i')\n",
    "\n",
    "# Write to SBML file \n",
    "_ = atc_mb_ss.writeSBML('membrane_atc.xml')\n",
    "print('Model written to a SBML file successfully')"
   ]
  },
  {
   "cell_type": "markdown",
   "metadata": {},
   "source": [
    "# exsA expression + ATP rheostat model\n"
   ]
  },
  {
   "cell_type": "code",
   "execution_count": 5,
   "metadata": {},
   "outputs": [],
   "source": [
    "# Import statements\n",
    "from subsbml import createNewSubsystem, createSubsystem\n",
    "\n",
    "import numpy as np\n",
    "import pylab as plt\n",
    "# Import SBML models by creating Subsystem class objects\n",
    "ss1 = createSubsystem('fusion_sub1.xml', subsystemName = 'exsA')\n",
    "ss2 = createSubsystem('ATP_rheostat.xml', subsystemName = 'ATP_rheostat')\n",
    "\n",
    "ss2.renameSName('metabolite_atp', 'ATP')\n",
    "ss2.renameSName('metabolite_adp', 'ADP')\n",
    "ss2.renameSName('metabolite_pi', 'P')\n",
    "\n",
    "\n",
    "combsub = createNewSubsystem()\n",
    "combsub.combineSubsystems([ss1,ss2])\n",
    "\n",
    "# Set signal concentration (input) - manually and get ID for protein X\n",
    "_ = combsub.writeSBML('comb_exsA_sub.xml')\n"
   ]
  },
  {
   "cell_type": "markdown",
   "metadata": {},
   "source": [
    "# gfp expression + ATP rheostat model\n"
   ]
  },
  {
   "cell_type": "code",
   "execution_count": 6,
   "metadata": {},
   "outputs": [],
   "source": [
    "# Import statements\n",
    "from subsbml import createNewSubsystem, createSubsystem\n",
    "\n",
    "import numpy as np\n",
    "import pylab as plt\n",
    "# Import SBML models by creating Subsystem class objects\n",
    "ss1 = createSubsystem('fusion_sub2.xml', subsystemName = 'gfp')\n",
    "ss2 = createSubsystem('ATP_rheostat.xml', subsystemName = 'ATP_rheostat')\n",
    "\n",
    "ss2.renameSName('metabolite_atp', 'ATP')\n",
    "ss2.renameSName('metabolite_adp', 'ADP')\n",
    "ss2.renameSName('metabolite_pi', 'P')\n",
    "\n",
    "\n",
    "combsub = createNewSubsystem()\n",
    "combsub.combineSubsystems([ss1,ss2])\n",
    "\n",
    "# Set signal concentration (input) - manually and get ID for protein X\n",
    "_ = combsub.writeSBML('comb_gfp1_sub.xml')\n"
   ]
  },
  {
   "cell_type": "code",
   "execution_count": null,
   "metadata": {},
   "outputs": [],
   "source": []
  }
 ],
 "metadata": {
  "kernelspec": {
   "display_name": "Python 3",
   "language": "python",
   "name": "python3"
  },
  "language_info": {
   "codemirror_mode": {
    "name": "ipython",
    "version": 3
   },
   "file_extension": ".py",
   "mimetype": "text/x-python",
   "name": "python",
   "nbconvert_exporter": "python",
   "pygments_lexer": "ipython3",
   "version": "3.7.7"
  }
 },
 "nbformat": 4,
 "nbformat_minor": 4
}
