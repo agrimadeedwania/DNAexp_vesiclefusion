{
 "cells": [
  {
   "cell_type": "code",
   "execution_count": null,
   "metadata": {},
   "outputs": [],
   "source": [
    "from subsbml import System, createSubsystem, combineSystems, createNewSubsystem\n",
    "import numpy as np\n",
    "import pylab as plt\n"
   ]
  },
  {
   "cell_type": "markdown",
   "metadata": {},
   "source": [
    "# cell with Rheostat\n",
    "# cell 1"
   ]
  },
  {
   "cell_type": "code",
   "execution_count": null,
   "metadata": {},
   "outputs": [],
   "source": [
    "ss1 = createSubsystem('comb_exsA_sub.xml')\n",
    "ss3 = createSubsystem('atc_external_reservoir.xml')\n",
    "mb1 = createSubsystem('membrane_atc.xml', membrane = True)\n",
    "cell_1 =  System('cell_1',ListOfInternalSubsystems = [ss1],\n",
    "                 ListOfExternalSubsystems = [ss3],\n",
    "                 ListOfMembraneSubsystems = [mb1])\n",
    "\n",
    "cell_1_model = cell_1.getModel()\n",
    "cell_1_model.setSpeciesAmount('atc_e', 1e4, compartment = 'cell_1_external')\n",
    "cell_1_model.setSpeciesAmount('dna_f', 1, compartment = 'cell_1_internal')\n",
    "cell_1_model.setSpeciesAmount('tetR', 10, compartment = 'cell_1_internal')\n",
    "cell_1_model.setSpeciesAmount('ATP', 20, compartment = 'cell_1_internal')\n",
    "cell_1_model.setSpeciesAmount('molecule_glucose', 30, compartment = 'cell_1_internal')\n",
    "cell_1_model.setSpeciesAmount('metabolite_nadp', 30, compartment = 'cell_1_internal')\n",
    "cell_1_model.setSpeciesAmount('P', 30, compartment = 'cell_1_internal')\n",
    "cell_1_model.setSpeciesAmount('enzyme_hex', 0.20, compartment = 'cell_1_internal')\n",
    "cell_1_model.setSpeciesAmount('enzyme_pgi', 0.20, compartment = 'cell_1_internal')\n",
    "cell_1_model.setSpeciesAmount('enzyme_pfk', 0.20, compartment = 'cell_1_internal')\n",
    "cell_1_model.setSpeciesAmount('enzyme_ald_tpi', 0.20, compartment = 'cell_1_internal')\n",
    "cell_1_model.setSpeciesAmount('enzyme_gapN', 0.20, compartment = 'cell_1_internal')\n",
    "cell_1_model.setSpeciesAmount('enzyme_mGapDH', 0.20, compartment = 'cell_1_internal')\n",
    "cell_1_model.setSpeciesAmount('enzyme_pgk', 0.20, compartment = 'cell_1_internal')\n",
    "cell_1_model.setSpeciesAmount('enzyme_pgm', 0.20, compartment = 'cell_1_internal')\n",
    "cell_1_model.setSpeciesAmount('enzyme_eno', 0.20, compartment = 'cell_1_internal')\n",
    "cell_1_model.setSpeciesAmount('enzyme_pyk', 0.20, compartment = 'cell_1_internal')\n",
    "cell_1_model.setSpeciesAmount('enzyme_alsS', 0.20, compartment = 'cell_1_internal')\n",
    "cell_1_model.setSpeciesAmount('enzyme_IlvC', 0.20, compartment = 'cell_1_internal')\n",
    "cell_1_model.setSpeciesAmount('enzyme_IlvD', 0.20, compartment = 'cell_1_internal')\n",
    "cell_1_model.setSpeciesAmount('enzyme_kivD', 0.20, compartment = 'cell_1_internal')\n",
    "cell_1_model.setSpeciesAmount('enzyme_yahk', 0.20, compartment = 'cell_1_internal')\n",
    "\n"
   ]
  },
  {
   "cell_type": "markdown",
   "metadata": {},
   "source": [
    "# cell 2"
   ]
  },
  {
   "cell_type": "code",
   "execution_count": null,
   "metadata": {},
   "outputs": [],
   "source": [
    "ss2 = createSubsystem('comb_gfp1_sub.xml')\n",
    "ss3 = createSubsystem('atc_external_reservoir.xml')\n",
    "mb1 = createSubsystem('membrane_atc.xml', membrane = True)\n",
    "cell_2 =  System('cell_2',ListOfInternalSubsystems = [ss2],\n",
    "                 ListOfExternalSubsystems = [ss3],\n",
    "                 ListOfMembraneSubsystems = [mb1])\n",
    "cell_2_model = cell_2.getModel()\n",
    "cell_2_model.setSpeciesAmount('atc_e', 1e4, compartment = 'cell_2_external')\n",
    "cell_2_model.setSpeciesAmount('dna_h', 1, compartment = 'cell_2_internal')\n",
    "cell_2_model.setSpeciesAmount('ATP', 20, compartment = 'cell_2_internal')\n",
    "cell_2_model.setSpeciesAmount('molecule_glucose', 30, compartment = 'cell_2_internal')\n",
    "cell_2_model.setSpeciesAmount('metabolite_nadp', 30, compartment = 'cell_2_internal')\n",
    "cell_2_model.setSpeciesAmount('P', 30, compartment = 'cell_2_internal')\n",
    "cell_2_model.setSpeciesAmount('enzyme_hex', 0.20, compartment = 'cell_2_internal')\n",
    "cell_2_model.setSpeciesAmount('enzyme_pgi', 0.20, compartment = 'cell_2_internal')\n",
    "cell_2_model.setSpeciesAmount('enzyme_pfk', 0.20, compartment = 'cell_2_internal')\n",
    "cell_2_model.setSpeciesAmount('enzyme_ald_tpi', 0.20, compartment = 'cell_2_internal')\n",
    "cell_2_model.setSpeciesAmount('enzyme_gapN', 0.20, compartment = 'cell_2_internal')\n",
    "cell_2_model.setSpeciesAmount('enzyme_mGapDH', 0.20, compartment = 'cell_2_internal')\n",
    "cell_2_model.setSpeciesAmount('enzyme_pgk', 0.20, compartment = 'cell_2_internal')\n",
    "cell_2_model.setSpeciesAmount('enzyme_pgm', 0.20, compartment = 'cell_2_internal')\n",
    "cell_2_model.setSpeciesAmount('enzyme_eno', 0.20, compartment = 'cell_2_internal')\n",
    "cell_2_model.setSpeciesAmount('enzyme_pyk', 0.20, compartment = 'cell_2_internal')\n",
    "cell_2_model.setSpeciesAmount('enzyme_alsS', 0.20, compartment = 'cell_2_internal')\n",
    "cell_2_model.setSpeciesAmount('enzyme_IlvC', 0.20, compartment = 'cell_2_internal')\n",
    "cell_2_model.setSpeciesAmount('enzyme_IlvD', 0.20, compartment = 'cell_2_internal')\n",
    "cell_2_model.setSpeciesAmount('enzyme_kivD', 0.20, compartment = 'cell_2_internal')\n",
    "cell_2_model.setSpeciesAmount('enzyme_yahk', 0.20, compartment = 'cell_2_internal')\n",
    "\n"
   ]
  },
  {
   "cell_type": "markdown",
   "metadata": {},
   "source": [
    "# cell fusion"
   ]
  },
  {
   "cell_type": "code",
   "execution_count": null,
   "metadata": {},
   "outputs": [],
   "source": [
    "cell_1_model.renameCompartments('cell_1_internal', 'cellfusedinternal')\n",
    "cell_1_model.renameCompartments('cell_1_external', 'cellfusedexternal')\n",
    "cell_2_model.renameCompartments('cell_2_internal', 'cellfusedinternal')\n",
    "cell_2_model.renameCompartments('cell_2_external', 'cellfusedexternal')\n",
    "cell_1_model.writeSBML('ATP_cell_1_model.xml')\n",
    "cell_2_model.writeSBML('ATP_cell_2_model.xml')"
   ]
  },
  {
   "cell_type": "code",
   "execution_count": null,
   "metadata": {},
   "outputs": [],
   "source": [
    "fus_comb_atp=createNewSubsystem()\n",
    "fus_comb_atp.combineSubsystems([cell_1_model,cell_2_model])\n",
    "\n",
    "_ = fus_comb_atp.writeSBML('ATP_fus_comb.xml')"
   ]
  },
  {
   "cell_type": "markdown",
   "metadata": {},
   "source": [
    "# plot"
   ]
  },
  {
   "cell_type": "code",
   "execution_count": null,
   "metadata": {},
   "outputs": [],
   "source": [
    "timepoints = np.linspace(0,70000,1000000)\n",
    "results_1, _ = cell_1_model.simulateWithBioscrape(timepoints)\n",
    "results_2, _ = cell_2_model.simulateWithBioscrape(timepoints)\n",
    "results_3, _ = fus_comb_atp.simulateWithBioscrape(timepoints)\n",
    "exsA_id1 = cell_1_model.getSpeciesByName('exsA', compartment = 'cellfusedinternal').getId()\n",
    "gfp_id2 = cell_2_model.getSpeciesByName('gfp', compartment = 'cellfusedinternal').getId()\n",
    "gfp_id3 = fus_comb_atp.getSpeciesByName('gfp', compartment = 'cellfusedinternal').getId()\n",
    "ATP_id1 = fus_comb_atp.getSpeciesByName('ATP', compartment = 'cellfusedinternal').getId()\n",
    "\n",
    "plt.plot(timepoints, results_1[exsA_id1], linewidth = 3, label = 'exsA')\n",
    "plt.plot(timepoints, results_2[gfp_id2], linewidth = 3, label = 'gfp_cell2')\n",
    "plt.plot(timepoints, results_3[gfp_id3], linewidth = 3, label = 'gfp_fused cell')\n",
    "plt.plot(timepoints, results_3[ATP_id1], linewidth = 3, label = 'ATP_fused cell')\n",
    "\n",
    "plt.title(\"Fusion with Rheostat: ATP=50\")\n",
    "plt.xlabel('Time')\n",
    "plt.ylabel('Conc')\n",
    "plt.legend()\n",
    "plt.show()"
   ]
  },
  {
   "cell_type": "markdown",
   "metadata": {},
   "source": [
    "# Cell without Rheostat"
   ]
  },
  {
   "cell_type": "markdown",
   "metadata": {},
   "source": [
    "# cell 1"
   ]
  },
  {
   "cell_type": "code",
   "execution_count": null,
   "metadata": {},
   "outputs": [],
   "source": [
    "ss1 = createSubsystem('fusion_sub1.xml')\n",
    "ss3 = createSubsystem('atc_external_reservoir.xml')\n",
    "mb1 = createSubsystem('membrane_atc.xml', membrane = True)\n",
    "cell_3 =  System('cell_3',ListOfInternalSubsystems = [ss1],\n",
    "                 ListOfExternalSubsystems = [ss3],\n",
    "                 ListOfMembraneSubsystems = [mb1])\n",
    "\n",
    "cell_3_model = cell_3.getModel()\n",
    "cell_3_model.setSpeciesAmount('atc_e', 1e4, compartment = 'cell_3_external')\n",
    "cell_3_model.setSpeciesAmount('dna_f', 1, compartment = 'cell_3_internal')\n",
    "cell_3_model.setSpeciesAmount('tetR', 10, compartment = 'cell_3_internal')\n",
    "cell_3_model.setSpeciesAmount('ATP', 20, compartment = 'cell_3_internal')\n"
   ]
  },
  {
   "cell_type": "markdown",
   "metadata": {},
   "source": [
    "# cell 2"
   ]
  },
  {
   "cell_type": "code",
   "execution_count": null,
   "metadata": {},
   "outputs": [],
   "source": [
    "ss2 = createSubsystem('fusion_sub2.xml')\n",
    "ss3 = createSubsystem('atc_external_reservoir.xml')\n",
    "mb1 = createSubsystem('membrane_atc.xml', membrane = True)\n",
    "cell_4 =  System('cell_4',ListOfInternalSubsystems = [ss2],\n",
    "                 ListOfExternalSubsystems = [ss3],\n",
    "                 ListOfMembraneSubsystems = [mb1])\n",
    "cell_4_model = cell_4.getModel()\n",
    "cell_4_model.setSpeciesAmount('atc_e', 1e4, compartment = 'cell_4_external')\n",
    "cell_4_model.setSpeciesAmount('dna_h', 1, compartment = 'cell_4_internal')\n",
    "cell_4_model.setSpeciesAmount('ATP', 20, compartment = 'cell_4_internal')\n"
   ]
  },
  {
   "cell_type": "markdown",
   "metadata": {},
   "source": [
    "# prep. for fusing by changing compartment"
   ]
  },
  {
   "cell_type": "code",
   "execution_count": null,
   "metadata": {},
   "outputs": [],
   "source": [
    "cell_3_model.renameCompartments('cell_3_internal', 'cellfusedinternal2')\n",
    "cell_3_model.renameCompartments('cell_3_external', 'cellfusedexternal2')\n",
    "cell_4_model.renameCompartments('cell_4_internal', 'cellfusedinternal2')\n",
    "cell_4_model.renameCompartments('cell_4_external', 'cellfusedexternal2')\n",
    "cell_3_model.writeSBML('m2_cell_1_model.xml')\n",
    "cell_4_model.writeSBML('m2_cell_2_model.xml')"
   ]
  },
  {
   "cell_type": "markdown",
   "metadata": {},
   "source": [
    "# fusing subsystem"
   ]
  },
  {
   "cell_type": "code",
   "execution_count": null,
   "metadata": {},
   "outputs": [],
   "source": [
    "fus_comb=createNewSubsystem()\n",
    "fus_comb.combineSubsystems([cell_3_model,cell_4_model])\n",
    "\n",
    "_ = fus_comb.writeSBML('m2_fus_comb.xml')"
   ]
  },
  {
   "cell_type": "code",
   "execution_count": null,
   "metadata": {},
   "outputs": [],
   "source": [
    "\n",
    "results_4, _ = cell_3_model.simulateWithBioscrape(timepoints)\n",
    "results_5, _ = cell_4_model.simulateWithBioscrape(timepoints)\n",
    "results_6, _ = fus_comb.simulateWithBioscrape(timepoints)\n",
    "exsA_id4 = cell_3_model.getSpeciesByName('exsA', compartment = 'cellfusedinternal2').getId()\n",
    "gfp_id5 = cell_4_model.getSpeciesByName('gfp', compartment = 'cellfusedinternal2').getId()\n",
    "gfp_id6 = fus_comb.getSpeciesByName('gfp', compartment = 'cellfusedinternal2').getId()\n",
    "ATP_id2 = fus_comb.getSpeciesByName('ATP', compartment = 'cellfusedinternal2').getId()\n",
    "exsA_id5 = fus_comb.getSpeciesByName('exsA', compartment = 'cellfusedinternal2').getId()\n",
    "\n",
    "plt.figure(figsize=(7,6))\n",
    "plt.plot(timepoints, results_4[exsA_id4], linewidth = 3, label = 'exsA')\n",
    "plt.plot(timepoints, results_5[gfp_id5], linewidth = 3, label = 'gfp_cell2')\n",
    "plt.plot(timepoints, results_6[gfp_id6], linewidth = 3, label = 'gfp_fused cell')\n",
    "plt.plot(timepoints, results_6[ATP_id2], linewidth = 3, label = 'ATP_fused cell')\n",
    "plt.plot(timepoints, results_6[exsA_id5], linewidth = 3, label = 'exsA_fused cell')\n",
    "\n",
    "plt.title(\"ATP conc: model 1=50\")\n",
    "plt.xlabel('Time')\n",
    "plt.ylabel('Conc')\n",
    "plt.legend()\n",
    "plt.show()"
   ]
  },
  {
   "cell_type": "markdown",
   "metadata": {},
   "source": [
    "# comparison plot\n"
   ]
  },
  {
   "cell_type": "code",
   "execution_count": null,
   "metadata": {},
   "outputs": [],
   "source": [
    "plt.figure(figsize=(10,8))\n",
    "plt.plot(timepoints, results_1[exsA_id1], linewidth = 3, label = 'exsA_cell1_ATP_regen')\n",
    "plt.plot(timepoints, results_2[gfp_id2], linewidth = 5, label = 'gfp_cell2_ATP_regen')\n",
    "plt.plot(timepoints, results_3[gfp_id3], linewidth = 3, label = 'gfp_fused cell_ATP_regen')\n",
    "plt.plot(timepoints, results_3[ATP_id1], linewidth = 3, label = 'ATP_fused cell_ATP_regen')\n",
    "plt.plot(timepoints, results_4[exsA_id4], linewidth = 3, label = 'exsA_cell1')\n",
    "plt.plot(timepoints, results_5[gfp_id5], linewidth = 3, label = 'gfp_cell2')\n",
    "plt.plot(timepoints, results_6[gfp_id6], linewidth = 3, label = 'gfp_fused cell')\n",
    "plt.plot(timepoints, results_6[ATP_id2], linewidth = 3, label = 'ATP_fused cell')\n",
    "\n",
    "plt.title(\"ATP=50\")\n",
    "plt.xlabel('Time')\n",
    "plt.ylabel('Conc')\n",
    "plt.legend()\n",
    "plt.show()"
   ]
  },
  {
   "cell_type": "code",
   "execution_count": null,
   "metadata": {},
   "outputs": [],
   "source": []
  },
  {
   "cell_type": "code",
   "execution_count": null,
   "metadata": {},
   "outputs": [],
   "source": []
  }
 ],
 "metadata": {
  "kernelspec": {
   "display_name": "Python 3 (ipykernel)",
   "language": "python",
   "name": "python3"
  },
  "language_info": {
   "codemirror_mode": {
    "name": "ipython",
    "version": 3
   },
   "file_extension": ".py",
   "mimetype": "text/x-python",
   "name": "python",
   "nbconvert_exporter": "python",
   "pygments_lexer": "ipython3",
   "version": "3.9.15"
  }
 },
 "nbformat": 4,
 "nbformat_minor": 4
}
