{
 "cells": [
  {
   "cell_type": "markdown",
   "metadata": {},
   "source": [
    "# Cells with diff ATP conc\n",
    "## cell 1"
   ]
  },
  {
   "cell_type": "code",
   "execution_count": null,
   "metadata": {},
   "outputs": [],
   "source": [
    "from subsbml import System, createSubsystem, combineSystems, createNewSubsystem\n",
    "\n",
    "import numpy as np\n",
    "import pylab as plt\n",
    "\n",
    "ss1 = createSubsystem('transporter.xml')\n",
    "ss2 = createSubsystem('atc_external_reservoir.xml')\n",
    "\n",
    "# Create a simple atc membrane where atc goes in an out of the membrane via a reversible reaction\n",
    "mb1 = createSubsystem('membrane_atc.xml', membrane = True)\n",
    "\n",
    "mb2 = createSubsystem('dnaexp_membrane1.xml', membrane = True)\n",
    "\n",
    "cell_1 =  System('cell_1',ListOfInternalSubsystems = [ss1],\n",
    "                 ListOfExternalSubsystems = [ss2],\n",
    "                 ListOfMembraneSubsystems = [mb1,mb2])\n",
    "\n",
    "cell_1_model = cell_1.getModel()\n",
    "cell_1_model.setSpeciesAmount('atc_e', 1e4, compartment = 'cell_1_external')\n",
    "cell_1_model.setSpeciesAmount('ssDNA', 50, compartment = 'cell_1_internal')\n",
    "cell_1_model.setSpeciesAmount('dna_g', 1, compartment = 'cell_1_internal')\n",
    "cell_1_model.setSpeciesAmount('tetR', 10, compartment = 'cell_1_internal')\n",
    "cell_1_model.setSpeciesAmount('ATP', 28, compartment = 'cell_1_internal')\n",
    "cell_1_model.getSBMLDocument().getModel().getCompartment(1).setSize(1e-4) \n",
    "cell_1_model.writeSBML('cell_1_model.xml')\n",
    "\n",
    "\n"
   ]
  },
  {
   "cell_type": "code",
   "execution_count": null,
   "metadata": {},
   "outputs": [],
   "source": [
    "timepoints = np.linspace(0,40000,10000)\n",
    "results_1, _ = cell_1_model.simulateWithBioscrape(timepoints)\n",
    "\n",
    "VirE2_b_id1 = cell_1_model.getSpeciesByName('VirE2_b', compartment = 'cell_1_internal').getId()\n",
    "ssDNA_e_id1 = cell_1_model.getSpeciesByName('ssDNA_e', compartment = 'cell_1_external').getId()\n",
    "ssDNA_id1 = cell_1_model.getSpeciesByName('ssDNA', compartment = 'cell_1_internal').getId()\n",
    "VirE2_b_ssDNA_id1 = cell_1_model.getSpeciesByName('VirE2_b_ssDNA', compartment = 'cell_1_internal').getId()\n",
    "ATP_id1 = cell_1_model.getSpeciesByName('ATP', compartment = 'cell_1_internal').getId()\n",
    "#rna_id1 = cell_1_model.getSpeciesByName('rna_g', compartment = 'cell_1_internal').getId()\n",
    "\n",
    "colors=['#1b9e77','#d95f02','#7570b3','#e7298a','#66a61e','#e6ab02','#a6761d']\n",
    "export_plot = bokeh.plotting.figure(width = 800, height = 450, \n",
    "                         x_axis_label = 'Time (sec)',\n",
    "                         y_axis_label = 'Concentration', #(μM)\n",
    "                         title = 'Export Plot')\n",
    "export_plot.line(timepoints, results_1[ssDNA_e_id1], color = colors[0],line_width = 3, legend_label = 'ssDNA_e')\n",
    "export_plot.line(timepoints, results_1[VirE2_b_id1], color = colors[1], line_width = 3,legend_label = 'aHL_b')\n",
    "export_plot.line(timepoints, results_1[VirE2_b_ssDNA_id1], color = colors[2], line_width = 3,legend_label = 'ssDNA_bound')\n",
    "export_plot.line(timepoints, results_1[ssDNA_id1], color = colors[3], line_width = 3,legend_label = 'ssDNA_i')\n",
    "export_plot.legend.location = 'center_right'\n",
    "export_plot.legend.click_policy=\"hide\"\n",
    "#, 'bottom_center', 'bottom_right') or Tuple(Float, Float), got 'best'\n",
    "bokeh.io.show(export_plot)\n"
   ]
  },
  {
   "cell_type": "markdown",
   "metadata": {},
   "source": [
    "## cell 2"
   ]
  },
  {
   "cell_type": "code",
   "execution_count": null,
   "metadata": {},
   "outputs": [],
   "source": [
    "from subsbml import System, createSubsystem, combineSystems, createNewSubsystem\n",
    "\n",
    "import numpy as np\n",
    "import pylab as plt\n",
    "\n",
    "ss1 = createSubsystem('transporter.xml')\n",
    "ss2 = createSubsystem('atc_external_reservoir.xml')\n",
    "\n",
    "# Create a simple atc membrane where atc goes in an out of the membrane via a reversible reaction\n",
    "mb1 = createSubsystem('membrane_atc.xml', membrane = True)\n",
    "\n",
    "mb2 = createSubsystem('dnaexp_membrane1.xml', membrane = True)\n",
    "\n",
    "cell_2 =  System('cell_2',ListOfInternalSubsystems = [ss1],\n",
    "                 ListOfExternalSubsystems = [ss2],\n",
    "                 ListOfMembraneSubsystems = [mb1, mb2])\n",
    "\n",
    "cell_2_model = cell_2.getModel()\n",
    "cell_2_model.setSpeciesAmount('atc_e', 1e4, compartment = 'cell_2_external')\n",
    "cell_2_model.setSpeciesAmount('ssDNA', 50, compartment = 'cell_2_internal')\n",
    "cell_2_model.setSpeciesAmount('dna_g', 1, compartment = 'cell_2_internal')\n",
    "cell_2_model.setSpeciesAmount('tetR', 10, compartment = 'cell_2_internal')\n",
    "cell_2_model.setSpeciesAmount('ATP', 30, compartment = 'cell_2_internal')\n",
    "cell_2_model.getSBMLDocument().getModel().getCompartment(1).setSize(1e-4) \n",
    "cell_2_model.writeSBML('cell_2_model.xml')\n",
    "\n",
    "from subsbml import System, createSubsystem, combineSystems, createNewSubsystem\n",
    "\n",
    "\n"
   ]
  },
  {
   "cell_type": "code",
   "execution_count": null,
   "metadata": {},
   "outputs": [],
   "source": [
    "\n",
    "results_2, _ = cell_2_model.simulateWithBioscrape(timepoints)\n",
    "\n",
    "VirE2_b_id2 = cell_2_model.getSpeciesByName('VirE2_b', compartment = 'cell_2_internal').getId()\n",
    "ssDNA_e_id2 = cell_2_model.getSpeciesByName('ssDNA_e', compartment = 'cell_2_external').getId()\n",
    "ssDNA_id2 = cell_2_model.getSpeciesByName('ssDNA', compartment = 'cell_2_internal').getId()\n",
    "VirE2_b_ssDNA_id2 = cell_2_model.getSpeciesByName('VirE2_b_ssDNA', compartment = 'cell_2_internal').getId()\n",
    "\n",
    "\n",
    "plt.figure(figsize=(12,6))\n",
    "\n",
    "plt.plot(timepoints, results_2[VirE2_b_id2], linewidth = 3, label = 'aHL_b_2')\n",
    "plt.plot(timepoints, results_2[ssDNA_e_id2], linewidth =2, label = 'ssDNA_e_2')\n",
    "#plt.plot(timepoints, results_2[VirE2_b_ssDNA_id2], linewidth = 3, label = 'ssDNA_bound_2')\n",
    "#plt.plot(timepoints, results_2[ssDNA_id2], linewidth = 3, label = 'ssDNA_i_2')\n",
    "\n",
    "\n",
    "plt.title(\"ATP conc: model 2=10\")\n",
    "plt.xlabel('Time')\n",
    "plt.ylabel('Conc')\n",
    "plt.legend()\n",
    "plt.show()"
   ]
  },
  {
   "cell_type": "markdown",
   "metadata": {},
   "source": [
    "# Comparison Plot"
   ]
  },
  {
   "cell_type": "code",
   "execution_count": null,
   "metadata": {},
   "outputs": [],
   "source": [
    "\n",
    "plt.figure(figsize=(12,6))\n",
    "plt.plot(timepoints, results_1[VirE2_b_id1], linewidth = 3, label = 'aHL_b_1')\n",
    "plt.plot(timepoints, results_1[ssDNA_e_id1], linewidth = 4, label = 'ssDNA_e_1')\n",
    "#plt.plot(timepoints, results_1[VirE2_b_ssDNA_id1], linewidth = 3, label = 'ssDNA_bound_1')\n",
    "#plt.plot(timepoints, results_1[ssDNA_id1], linewidth = 3, label = 'ssDNA_i_1')\n",
    "\n",
    "plt.plot(timepoints, results_2[VirE2_b_id2], linewidth = 3, label = 'aHL_b_2')\n",
    "plt.plot(timepoints, results_2[ssDNA_e_id2], \"cyan\", linewidth =4, label = 'ssDNA_e_2')\n",
    "#plt.plot(timepoints, results_2[VirE2_b_ssDNA_id2], linewidth = 3, label = 'ssDNA_bound_2')\n",
    "#plt.plot(timepoints, results_2[ssDNA_id2], linewidth = 3, label = 'ssDNA_i_2')\n",
    "\n",
    "plt.title(\"ATP conc: model 1=15, model 2=30\")\n",
    "plt.xlabel('Time')\n",
    "plt.ylabel('Conc')\n",
    "plt.legend()\n",
    "plt.show()"
   ]
  },
  {
   "cell_type": "code",
   "execution_count": null,
   "metadata": {},
   "outputs": [],
   "source": []
  },
  {
   "cell_type": "code",
   "execution_count": null,
   "metadata": {},
   "outputs": [],
   "source": []
  },
  {
   "cell_type": "code",
   "execution_count": null,
   "metadata": {},
   "outputs": [],
   "source": []
  },
  {
   "cell_type": "markdown",
   "metadata": {},
   "source": [
    "## cell 3"
   ]
  },
  {
   "cell_type": "code",
   "execution_count": null,
   "metadata": {},
   "outputs": [],
   "source": [
    "from subsbml import System, createSubsystem, combineSystems, createNewSubsystem\n",
    "\n",
    "import numpy as np\n",
    "import pylab as plt\n",
    "\n",
    "ss1 = createSubsystem('transporter.xml')\n",
    "ss2 = createSubsystem('atc_external_reservoir.xml')\n",
    "\n",
    "# Create a simple atc membrane where atc goes in an out of the membrane via a reversible reaction\n",
    "mb1 = createSubsystem('membrane_atc.xml', membrane = True)\n",
    "\n",
    "mb2 = createSubsystem('dnaexp_membrane1.xml', membrane = True)\n",
    "\n",
    "cell_3 =  System('cell_3',ListOfInternalSubsystems = [ss1],\n",
    "                 ListOfExternalSubsystems = [ss2],\n",
    "                 ListOfMembraneSubsystems = [mb1, mb2])\n",
    "\n",
    "cell_3_model = cell_3.getModel()\n",
    "cell_3_model.setSpeciesAmount('atc_e', 1e4, compartment = 'cell_3_external')\n",
    "cell_3_model.setSpeciesAmount('ssDNA', 50, compartment = 'cell_3_internal')\n",
    "cell_3_model.setSpeciesAmount('dna_g', 1, compartment = 'cell_3_internal')\n",
    "cell_3_model.setSpeciesAmount('tetR', 10, compartment = 'cell_3_internal')\n",
    "cell_3_model.setSpeciesAmount('ATP', 100, compartment = 'cell_3_internal')\n",
    "\n",
    "cell_3_model.writeSBML('cell_3_model.xml')\n",
    "\n"
   ]
  },
  {
   "cell_type": "markdown",
   "metadata": {},
   "source": []
  },
  {
   "cell_type": "code",
   "execution_count": null,
   "metadata": {},
   "outputs": [],
   "source": []
  },
  {
   "cell_type": "code",
   "execution_count": null,
   "metadata": {},
   "outputs": [],
   "source": []
  },
  {
   "cell_type": "code",
   "execution_count": null,
   "metadata": {},
   "outputs": [],
   "source": []
  }
 ],
 "metadata": {
  "kernelspec": {
   "display_name": "Python 3 (ipykernel)",
   "language": "python",
   "name": "python3"
  },
  "language_info": {
   "codemirror_mode": {
    "name": "ipython",
    "version": 3
   },
   "file_extension": ".py",
   "mimetype": "text/x-python",
   "name": "python",
   "nbconvert_exporter": "python",
   "pygments_lexer": "ipython3",
   "version": "3.9.15"
  }
 },
 "nbformat": 4,
 "nbformat_minor": 4
}
