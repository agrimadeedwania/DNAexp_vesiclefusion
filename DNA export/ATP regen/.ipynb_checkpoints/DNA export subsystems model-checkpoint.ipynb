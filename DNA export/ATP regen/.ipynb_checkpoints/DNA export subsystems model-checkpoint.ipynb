{
 "cells": [
  {
   "cell_type": "markdown",
   "metadata": {},
   "source": [
    "# Subsystem1 transporter\n"
   ]
  },
  {
   "cell_type": "code",
   "execution_count": 1,
   "metadata": {},
   "outputs": [
    {
     "name": "stderr",
     "output_type": "stream",
     "text": [
      "C:\\Users\\Agrima\\anaconda3\\lib\\site-packages\\biocrnpyler-0.2.1-py3.7.egg\\biocrnpyler\\__init__.py:37: UserWarning: No module named 'fa2'\n",
      "C:\\Users\\Agrima\\anaconda3\\lib\\site-packages\\biocrnpyler-0.2.1-py3.7.egg\\biocrnpyler\\__init__.py:38: UserWarning: plotting is disabled because you are missing some libraries\n"
     ]
    },
    {
     "name": "stdout",
     "output_type": "stream",
     "text": [
      "Model written to a SBML file successfully\n"
     ]
    }
   ],
   "source": [
    "from biocrnpyler import *\n",
    "import numpy as np\n",
    "import pylab as plt\n",
    "\n",
    "VirE2_f = Species (\"VirE2_f\") #, material_type = \"protein\") #free\n",
    "repressor = Species(\"tetR\") #, material_type = \"protein\")\n",
    "dna_g= Species (\"dna_g\")\n",
    "rna_g= Species (\"rna_g\")\n",
    "ATP= Species (\"ATP\")\n",
    "ADP= Species (\"ADP\")\n",
    "atc_i = Species(\"atc_i\") # material_type = \"ligand\")\n",
    "VirE2_b = Species (\"VirE2_b\") #bound to membran\n",
    "p= Species(\"P\")\n",
    "d_r= ComplexSpecies([dna_g,repressor])\n",
    "d_r_atc= ComplexSpecies([dna_g,repressor,atc_i])\n",
    "\n",
    "\n",
    "\n",
    "#Create a ChemicalComplex to model ligand-repressor bindning\n",
    "inactive_repressor = ChemicalComplex([repressor, atc_i])\n",
    "\n",
    "species=[dna_g, repressor, rna_g, VirE2_f, ATP,ADP, atc_i, inactive_repressor.get_species(),VirE2_b, d_r, d_r_atc, p]\n",
    "\n",
    "rex1=Reaction([atc_i, repressor], [inactive_repressor.get_species()], propensity_type = \"massaction\",k= 2e-4, k_rev=2e-9) #paper Minverese secinverse k= 2e+5, k_rev=2.1\n",
    "rex2=Reaction([dna_g, repressor], [d_r], propensity_type = \"massaction\",k= 4e-5, k_rev= 1e-12) #25\n",
    "rex3=Reaction([d_r,atc_i ], [d_r_atc], propensity_type = \"massaction\", k= 6e-6, k_rev= 3e-9 ) #k= 1e-5, k_rev= 3e-9\n",
    "rex4=Reaction([d_r_atc], [dna_g, inactive_repressor.get_species()], propensity_type = \"massaction\", k= 5e-3, k_rev=1e-10 ) #1000,10\n",
    "rex5=Reaction([dna_g], [dna_g, rna_g], propensity_type = \"massaction\", k=.0031875 ) \n",
    "rex6=Reaction([rna_g, ATP], [rna_g, ADP, VirE2_f,p], propensity_type = \"proportionalhillpositive\", propensity_params = {\"k\":0.001, \"n\":1, \"K\":1, \"s1\":ATP, \"d\":rna_g}) \n",
    "rex7=Reaction([VirE2_f], [VirE2_b], propensity_type = \"proportionalhillnegative\", propensity_params = {\"k\":0.0005, \"n\":1, \"K\":1, \"s1\":VirE2_b, \"d\":VirE2_f})\n",
    "rex8=Reaction([rna_g], [], propensity_type = \"massaction\", k= .001) \n",
    "rex9=Reaction([VirE2_f], [], propensity_type = \"massaction\", k= 1e-5)\n",
    "\n",
    "\n",
    "r=[rex1, rex2, rex3, rex4, rex5, rex6, rex7, rex8, rex9]\n",
    "\n",
    "CRN1 = ChemicalReactionNetwork(species = species, reactions = r)\n",
    "\n",
    "sub1 = CRN1.write_sbml_file('transporter.xml')\n",
    "print('Model written to a SBML file successfully')\n",
    "#print(CRN1.pretty_print())\n"
   ]
  },
  {
   "cell_type": "markdown",
   "metadata": {},
   "source": [
    " # atc external reservoir"
   ]
  },
  {
   "cell_type": "code",
   "execution_count": 2,
   "metadata": {},
   "outputs": [
    {
     "name": "stdout",
     "output_type": "stream",
     "text": [
      "Model written to a SBML file successfully\n"
     ]
    }
   ],
   "source": [
    "##### Creating atc reservoir model####\n",
    "\n",
    "from subsbml import createBasicSubsystem, SimpleModel\n",
    "import libsbml\n",
    "\n",
    "atc_ss, atc_model = createBasicSubsystem('external_reservoir')\n",
    "\n",
    "per_second = atc_model.createNewUnitDefinition(uId = 'per_second',uKind = libsbml.UNIT_KIND_SECOND,\n",
    "                                                uExponent = -1)\n",
    "substance = atc_model.createNewUnitDefinition('substance',libsbml.UNIT_KIND_DIMENSIONLESS, uExponent = 1)\n",
    "\n",
    "atc_model.createNewSpecies('atc_e',sComp = 'external_reservoir', ListOfAmounts = 1e4, \n",
    "                             sConstant = False, sSubstance = 'substance')\n",
    "\n",
    "# Write to SBML file \n",
    "exsub = atc_ss.writeSBML('atc_external_reservoir.xml')\n",
    "print('Model written to a SBML file successfully')"
   ]
  },
  {
   "cell_type": "markdown",
   "metadata": {},
   "source": [
    "## atc simple membrane model"
   ]
  },
  {
   "cell_type": "code",
   "execution_count": 3,
   "metadata": {},
   "outputs": [
    {
     "name": "stdout",
     "output_type": "stream",
     "text": [
      "Model written to a SBML file successfully\n"
     ]
    }
   ],
   "source": [
    "##### Creating a basic membrane model for IPTG transport####\n",
    "\n",
    "from subsbml import createNewSubsystem, SimpleModel, SimpleReaction\n",
    "\n",
    "atc_mb_ss = createNewSubsystem()\n",
    "model = atc_mb_ss.createNewModel('atc_membrane','second','mole','substance')\n",
    "\n",
    "atc_mb = SimpleModel(model)\n",
    "\n",
    "per_second = atc_mb.createNewUnitDefinition('per_second',libsbml.UNIT_KIND_SECOND,-1,0,1)\n",
    "substance = atc_mb.createNewUnitDefinition('substance',libsbml.UNIT_KIND_DIMENSIONLESS, 1, 0, 1)\n",
    "\n",
    "################# Two important lines of code when creating membrane #########################\n",
    "atc_mb.createNewCompartment('internal','internal',1e-6,'litre',True)\n",
    "atc_mb.createNewCompartment('external','external',1e-6,'litre',True)\n",
    "##############################################################################################\n",
    "\n",
    "atc_mb.createNewSpecies( 'atc_e','external',0,False,'substance')\n",
    "atc_mb.createNewSpecies( 'atc_i','internal',0,False,'substance')\n",
    "\n",
    "atc_mb.createNewParameter( 'kb',2e-3,False,'per_second')\n",
    "atc_mb.createNewParameter( 'kd',1e-5,False,'per_second')\n",
    "\n",
    "r1_sbml = model.createReaction()\n",
    "r1 = SimpleReaction(r1_sbml)\n",
    "r1.setId('r1')\n",
    "r1.setReversible(True)\n",
    "r1.createNewReactant('atc_e',False,1)\n",
    "r1.createNewProduct('atc_i', False, 1)\n",
    "r1.createRate('kb * atc_e - kd * atc_i')\n",
    "\n",
    "# Write to SBML file \n",
    "_ = atc_mb_ss.writeSBML('membrane_atc.xml')\n",
    "print('Model written to a SBML file successfully')"
   ]
  },
  {
   "cell_type": "markdown",
   "metadata": {},
   "source": [
    "# transporter protein advanced membrane model"
   ]
  },
  {
   "cell_type": "code",
   "execution_count": 4,
   "metadata": {},
   "outputs": [
    {
     "name": "stdout",
     "output_type": "stream",
     "text": [
      "Model written to a SBML file successfully\n"
     ]
    }
   ],
   "source": [
    "##### Creating a advanced membrane model for DNA transport####\n",
    "\n",
    "from subsbml import createNewSubsystem, SimpleModel, SimpleReaction\n",
    "\n",
    "dnaexp_mb_ss = createNewSubsystem()\n",
    "model = dnaexp_mb_ss.createNewModel('dnaexp_membrane','second','mole','substance')\n",
    "\n",
    "dnaexp_mb = SimpleModel(model)\n",
    "\n",
    "per_second = dnaexp_mb.createNewUnitDefinition('per_second',libsbml.UNIT_KIND_SECOND,-1,0,1)\n",
    "substance = dnaexp_mb.createNewUnitDefinition('substance',libsbml.UNIT_KIND_DIMENSIONLESS, 1, 0, 1)\n",
    "\n",
    "################# Two important lines of code when creating membrane #########################\n",
    "dnaexp_mb.createNewCompartment('internal','internal',1e-6,'litre',True)\n",
    "dnaexp_mb.createNewCompartment('external','external',1e-6,'litre',True)\n",
    "##############################################################################################\n",
    "\n",
    "dnaexp_mb.createNewSpecies( 'ssDNA_e','external',0,False,'substance')\n",
    "dnaexp_mb.createNewSpecies( 'ssDNA','internal',0,False,'substance')\n",
    "dnaexp_mb.createNewSpecies( 'VirE2_b','internal',1,False,'substance')\n",
    "dnaexp_mb.createNewSpecies( 'VirE2_b_ssDNA','internal',0,False,'substance')\n",
    "\n",
    "dnaexp_mb.createNewParameter( 'kb1',0.002,False,'per_second')\n",
    "dnaexp_mb.createNewParameter( 'kd1',0.00001,False,'per_second')\n",
    "dnaexp_mb.createNewParameter( 'kd2',0.0002,False,'per_second')\n",
    "\n",
    "\n",
    "model = dnaexp_mb_ss.getSBMLDocument().getModel()\n",
    "\n",
    "R1 = SimpleReaction(model.createReaction())\n",
    "R1.setId('R1')\n",
    "R1.setReversible(True)\n",
    "R1.createNewReactant('VirE2_b',False,1)\n",
    "R1.createNewReactant('ssDNA', False, 1)\n",
    "R1.createNewProduct('VirE2_b_ssDNA', False, 1)\n",
    "R1.createRate('kb1 * VirE2_b * ssDNA - kd1 * VirE2_b_ssDNA')\n",
    "\n",
    "\n",
    "R2 = SimpleReaction(model.createReaction())\n",
    "R2.setId('R2')\n",
    "R2.setReversible(False)\n",
    "R2.createNewReactant('VirE2_b_ssDNA',False,1)\n",
    "R2.createNewProduct('ssDNA_e',False,1)\n",
    "R2.createNewProduct('VirE2_b',False,1)\n",
    "R2.createRate('kd2 * VirE2_b_ssDNA')\n",
    "\n",
    "\n",
    "# Write to SBML file \n",
    "_ = dnaexp_mb_ss.writeSBML('dnaexp_membrane1.xml')\n",
    "print('Model written to a SBML file successfully')"
   ]
  },
  {
   "cell_type": "markdown",
   "metadata": {},
   "source": [
    "# virE2 expression + ATP rheostat model\n"
   ]
  },
  {
   "cell_type": "code",
   "execution_count": 5,
   "metadata": {},
   "outputs": [],
   "source": [
    "# Import statements\n",
    "from subsbml import createNewSubsystem, createSubsystem\n",
    "\n",
    "import numpy as np\n",
    "import pylab as plt\n",
    "# Import SBML models by creating Subsystem class objects\n",
    "ss1 = createSubsystem('transporter.xml', subsystemName = 'virE2')\n",
    "ss2 = createSubsystem('ATP_rheostat.xml', subsystemName = 'ATP_rheostat')\n",
    "\n",
    "ss2.renameSName('metabolite_atp', 'ATP')\n",
    "ss2.renameSName('metabolite_adp', 'ADP')\n",
    "ss2.renameSName('metabolite_pi', 'P')\n",
    "\n",
    "\n",
    "combsub = createNewSubsystem()\n",
    "combsub.combineSubsystems([ss1,ss2])\n",
    "\n",
    "# Set signal concentration (input) - manually and get ID for protein X\n",
    "_ = combsub.writeSBML('combintsub.xml')\n"
   ]
  },
  {
   "cell_type": "markdown",
   "metadata": {},
   "source": [
    "# Models below are of different diffusion reactions (not req now)"
   ]
  },
  {
   "cell_type": "raw",
   "metadata": {},
   "source": [
    "##### Creating a advanced membrane model for DNA transport####\n",
    "\n",
    "from subsbml import createNewSubsystem, SimpleModel, SimpleReaction\n",
    "\n",
    "dnaexp_mb_ss = createNewSubsystem()\n",
    "model = dnaexp_mb_ss.createNewModel('dnaexp_membrane','second','mole','substance')\n",
    "\n",
    "dnaexp_mb = SimpleModel(model)\n",
    "\n",
    "per_second = dnaexp_mb.createNewUnitDefinition('per_second',libsbml.UNIT_KIND_SECOND,-1,0,1)\n",
    "substance = dnaexp_mb.createNewUnitDefinition('substance',libsbml.UNIT_KIND_DIMENSIONLESS, 1, 0, 1)\n",
    "\n",
    "################# Two important lines of code when creating membrane #########################\n",
    "dnaexp_mb.createNewCompartment('internal','internal',1e-6,'litre',True)\n",
    "dnaexp_mb.createNewCompartment('external','external',1e-6,'litre',True)\n",
    "##############################################################################################\n",
    "\n",
    "dnaexp_mb.createNewSpecies( 'ssDNA_e','external',0,False,'substance')\n",
    "dnaexp_mb.createNewSpecies( 'ssDNA','internal',0,False,'substance')\n",
    "dnaexp_mb.createNewSpecies( 'VirE2_b','internal',1,False,'substance')\n",
    "dnaexp_mb.createNewSpecies( 'VirE2_b_ssDNA','internal',0,False,'substance')\n",
    "\n",
    "dnaexp_mb.createNewParameter( 'kb1', .2,False,'per_second')\n",
    "dnaexp_mb.createNewParameter( 'kd1',0.001,False,'per_second')\n",
    "dnaexp_mb.createNewParameter( 'kb2', .0002,False,'per_second')\n",
    "dnaexp_mb.createNewParameter( 'kd2',0.1,False,'per_second')\n",
    "\n",
    "\n",
    "model = dnaexp_mb_ss.getSBMLDocument().getModel()\n",
    "\n",
    "R1 = SimpleReaction(model.createReaction())\n",
    "R1.setId('R1')\n",
    "R1.setReversible(True)\n",
    "R1.createNewReactant('VirE2_b',False,1)\n",
    "R1.createNewReactant('ssDNA', False, 1)\n",
    "R1.createNewProduct('VirE2_b_ssDNA', False, 1)\n",
    "R1.createRate('kb1 * VirE2_b * ssDNA - kd1 * VirE2_b_ssDNA')\n",
    "\n",
    "\n",
    "R2 = SimpleReaction(model.createReaction())\n",
    "R2.setId('R2')\n",
    "R2.setReversible(False)\n",
    "R2.createNewReactant('VirE2_b_ssDNA',False,1)\n",
    "R2.createNewProduct('ssDNA_e',False,1)\n",
    "R2.createNewProduct('VirE2_b',False,1)\n",
    "R2.createRate('kd2 * VirE2_b_ssDNA- kb2 * VirE2_b * ssDNA_e')\n",
    "\n",
    "\n",
    "# Write to SBML file \n",
    "_ = dnaexp_mb_ss.writeSBML('dnaexp_membrane2.xml')\n",
    "print('Model written to a SBML file successfully')"
   ]
  },
  {
   "cell_type": "raw",
   "metadata": {},
   "source": [
    "##### Creating a advanced membrane model for DNA transport####\n",
    "\n",
    "from subsbml import createNewSubsystem, SimpleModel, SimpleReaction\n",
    "\n",
    "dnaexp_mb_ss = createNewSubsystem()\n",
    "model = dnaexp_mb_ss.createNewModel('dnaexp_membrane','second','mole','substance')\n",
    "\n",
    "dnaexp_mb = SimpleModel(model)\n",
    "\n",
    "per_second = dnaexp_mb.createNewUnitDefinition('per_second',libsbml.UNIT_KIND_SECOND,-1,0,1)\n",
    "substance = dnaexp_mb.createNewUnitDefinition('substance',libsbml.UNIT_KIND_DIMENSIONLESS, 1, 0, 1)\n",
    "\n",
    "################# Two important lines of code when creating membrane #########################\n",
    "dnaexp_mb.createNewCompartment('internal','internal',1e-6,'litre',True)\n",
    "dnaexp_mb.createNewCompartment('external','external',1e-6,'litre',True)\n",
    "##############################################################################################\n",
    "\n",
    "dnaexp_mb.createNewSpecies( 'ssDNA_e','external',0,False,'substance')\n",
    "dnaexp_mb.createNewSpecies( 'ssDNA','internal',0,False,'substance')\n",
    "dnaexp_mb.createNewSpecies( 'VirE2_b','internal',1,False,'substance')\n",
    "dnaexp_mb.createNewSpecies( 'VirE2_b_ssDNA','internal',0,False,'substance')\n",
    "\n",
    "dnaexp_mb.createNewParameter( 'kb',0.2,False,'per_second')\n",
    "dnaexp_mb.createNewParameter( 'kd',0.01,False,'per_second')\n",
    "\n",
    "model = dnaexp_mb_ss.getSBMLDocument().getModel()\n",
    "\n",
    "R1 = SimpleReaction(model.createReaction())\n",
    "R1.setId('R1')\n",
    "R1.setReversible(False)\n",
    "R1.createNewReactant('VirE2_b',False,1)\n",
    "R1.createNewReactant('ssDNA', False, 1)\n",
    "R1.createNewProduct('VirE2_b_ssDNA', False, 1)\n",
    "R1.createRate('kb * VirE2_b * ssDNA - kd * VirE2_b_ssDNA')\n",
    "\n",
    "\n",
    "R2 = SimpleReaction(model.createReaction())\n",
    "R2.setId('R2')\n",
    "R2.setReversible(False)\n",
    "R2.createNewReactant('VirE2_b_ssDNA',False,1)\n",
    "R2.createNewProduct('ssDNA_e',False,1)\n",
    "R2.createNewProduct('VirE2_b',False,1)\n",
    "R2.createRate('kd * VirE2_b_ssDNA- kb * VirE2_b * ssDNA_e')\n",
    "\n",
    "\n",
    "# Write to SBML file \n",
    "_ = dnaexp_mb_ss.writeSBML('dnaexp_membrane3.xml')\n",
    "print('Model written to a SBML file successfully')"
   ]
  },
  {
   "cell_type": "code",
   "execution_count": null,
   "metadata": {},
   "outputs": [],
   "source": []
  }
 ],
 "metadata": {
  "kernelspec": {
   "display_name": "Python 3",
   "language": "python",
   "name": "python3"
  },
  "language_info": {
   "codemirror_mode": {
    "name": "ipython",
    "version": 3
   },
   "file_extension": ".py",
   "mimetype": "text/x-python",
   "name": "python",
   "nbconvert_exporter": "python",
   "pygments_lexer": "ipython3",
   "version": "3.7.7"
  }
 },
 "nbformat": 4,
 "nbformat_minor": 4
}
