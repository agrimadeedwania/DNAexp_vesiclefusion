{
 "cells": [
  {
   "cell_type": "markdown",
   "metadata": {},
   "source": [
    "## cell 1 with Rheostat"
   ]
  },
  {
   "cell_type": "code",
   "execution_count": null,
   "metadata": {},
   "outputs": [],
   "source": [
    "from subsbml import System, createSubsystem, combineSystems, createNewSubsystem\n",
    "\n",
    "import numpy as np\n",
    "import pylab as plt\n",
    "\n",
    "ss1 = createSubsystem('combintsub.xml')\n",
    "ss2 = createSubsystem('atc_external_reservoir.xml')\n",
    "\n",
    "# Create a simple atc membrane where atc goes in an out of the membrane via a reversible reaction\n",
    "mb1 = createSubsystem('membrane_atc.xml', membrane = True)\n",
    "\n",
    "mb2 = createSubsystem('dnaexp_membrane1.xml', membrane = True)\n",
    "\n",
    "cell_1 =  System('cell_1',ListOfInternalSubsystems = [ss1],\n",
    "                 ListOfExternalSubsystems = [ss2],\n",
    "                 ListOfMembraneSubsystems = [mb1, mb2])\n",
    "\n",
    "cell_1_model = cell_1.getModel()\n",
    "cell_1_model.setSpeciesAmount('atc_e', 1e4, compartment = 'cell_1_external')\n",
    "cell_1_model.setSpeciesAmount('ssDNA', 50, compartment = 'cell_1_internal')\n",
    "cell_1_model.setSpeciesAmount('dna_g', 1, compartment = 'cell_1_internal')\n",
    "cell_1_model.setSpeciesAmount('tetR', 10, compartment = 'cell_1_internal')\n",
    "cell_1_model.setSpeciesAmount('ATP', 15, compartment = 'cell_1_internal')\n",
    "cell_1_model.setSpeciesAmount('molecule_glucose', 30, compartment = 'cell_1_internal')\n",
    "cell_1_model.setSpeciesAmount('metabolite_nadp', 30, compartment = 'cell_1_internal')\n",
    "cell_1_model.setSpeciesAmount('P', 30, compartment = 'cell_1_internal')\n",
    "cell_1_model.setSpeciesAmount('enzyme_hex', 0.20, compartment = 'cell_1_internal')\n",
    "cell_1_model.setSpeciesAmount('enzyme_pgi', 0.20, compartment = 'cell_1_internal')\n",
    "cell_1_model.setSpeciesAmount('enzyme_pfk', 0.20, compartment = 'cell_1_internal')\n",
    "cell_1_model.setSpeciesAmount('enzyme_ald_tpi', 0.20, compartment = 'cell_1_internal')\n",
    "cell_1_model.setSpeciesAmount('enzyme_gapN', 0.20, compartment = 'cell_1_internal')\n",
    "cell_1_model.setSpeciesAmount('enzyme_mGapDH', 0.20, compartment = 'cell_1_internal')\n",
    "cell_1_model.setSpeciesAmount('enzyme_pgk', 0.20, compartment = 'cell_1_internal')\n",
    "cell_1_model.setSpeciesAmount('enzyme_pgm', 0.20, compartment = 'cell_1_internal')\n",
    "cell_1_model.setSpeciesAmount('enzyme_eno', 0.20, compartment = 'cell_1_internal')\n",
    "cell_1_model.setSpeciesAmount('enzyme_pyk', 0.20, compartment = 'cell_1_internal')\n",
    "cell_1_model.setSpeciesAmount('enzyme_alsS', 0.20, compartment = 'cell_1_internal')\n",
    "cell_1_model.setSpeciesAmount('enzyme_IlvC', 0.20, compartment = 'cell_1_internal')\n",
    "cell_1_model.setSpeciesAmount('enzyme_IlvD', 0.20, compartment = 'cell_1_internal')\n",
    "cell_1_model.setSpeciesAmount('enzyme_kivD', 0.20, compartment = 'cell_1_internal')\n",
    "cell_1_model.setSpeciesAmount('enzyme_yahk', 0.20, compartment = 'cell_1_internal')\n",
    "\n",
    "cell_1_model.getSBMLDocument().getModel().getCompartment(1).setSize(1e-4) \n",
    "\n",
    "cell_1_model.writeSBML('cell_1_model.xml')\n",
    "\n",
    "\n"
   ]
  },
  {
   "cell_type": "code",
   "execution_count": null,
   "metadata": {},
   "outputs": [],
   "source": [
    "timepoints = np.linspace(0,50000,1000000)\n",
    "results_1, _ = cell_1_model.simulateWithBioscrape(timepoints)\n",
    "\n",
    "VirE2_b_id1 = cell_1_model.getSpeciesByName('VirE2_b', compartment = 'cell_1_internal').getId()\n",
    "ssDNA_e_id1 = cell_1_model.getSpeciesByName('ssDNA_e', compartment = 'cell_1_external').getId()\n",
    "ssDNA_id1 = cell_1_model.getSpeciesByName('ssDNA', compartment = 'cell_1_internal').getId()\n",
    "VirE2_b_ssDNA_id1 = cell_1_model.getSpeciesByName('VirE2_b_ssDNA', compartment = 'cell_1_internal').getId()\n",
    "ATP_id1 = cell_1_model.getSpeciesByName('ATP', compartment = 'cell_1_internal').getId()\n",
    "\n",
    "\n",
    "plt.figure(figsize=(12,6))\n",
    "plt.plot(timepoints, results_1[VirE2_b_id1], linewidth = 3, label = 'VirE2_b_1')\n",
    "plt.plot(timepoints, results_1[ssDNA_e_id1], linewidth = 4, label = 'ssDNA_e_1')\n",
    "#plt.plot(timepoints, results_1[VirE2_b_ssDNA_id1], linewidth = 3, label = 'ssDNA_bound_1')\n",
    "plt.plot(timepoints, results_1[ssDNA_id1], linewidth = 3, label = 'ssDNA_i_1')\n",
    "plt.plot(timepoints, results_1[ATP_id1], linewidth = 4, label = 'ATP_1')\n",
    "\n",
    "\n",
    "plt.title(\"ATP conc: model 1=40\")\n",
    "plt.xlabel('Time')\n",
    "plt.ylabel('Conc')\n",
    "plt.legend()\n",
    "plt.show()"
   ]
  },
  {
   "cell_type": "markdown",
   "metadata": {},
   "source": [
    "## cell 2 without rheostat"
   ]
  },
  {
   "cell_type": "code",
   "execution_count": null,
   "metadata": {},
   "outputs": [],
   "source": [
    "from subsbml import System, createSubsystem, combineSystems, createNewSubsystem\n",
    "\n",
    "import numpy as np\n",
    "import pylab as plt\n",
    "\n",
    "ss1 = createSubsystem('transporter.xml')\n",
    "ss2 = createSubsystem('atc_external_reservoir.xml')\n",
    "\n",
    "# Create a simple atc membrane where atc goes in an out of the membrane via a reversible reaction\n",
    "mb1 = createSubsystem('membrane_atc.xml', membrane = True)\n",
    "\n",
    "mb2 = createSubsystem('dnaexp_membrane1.xml', membrane = True)\n",
    "\n",
    "cell_2 =  System('cell_2',ListOfInternalSubsystems = [ss1],\n",
    "                 ListOfExternalSubsystems = [ss2],\n",
    "                 ListOfMembraneSubsystems = [mb1, mb2])\n",
    "\n",
    "cell_2_model = cell_2.getModel()\n",
    "cell_2_model.setSpeciesAmount('atc_e', 1e4, compartment = 'cell_2_external')\n",
    "cell_2_model.setSpeciesAmount('ssDNA', 50, compartment = 'cell_2_internal')\n",
    "cell_2_model.setSpeciesAmount('dna_g', 1, compartment = 'cell_2_internal')\n",
    "cell_2_model.setSpeciesAmount('tetR', 10, compartment = 'cell_2_internal')\n",
    "cell_2_model.setSpeciesAmount('ATP', 10, compartment = 'cell_2_internal')\n",
    "cell_2_model.getSBMLDocument().getModel().getCompartment(1).setSize(1e-4) \n",
    "\n",
    "cell_2_model.writeSBML('cell_2_model.xml')\n",
    "\n"
   ]
  },
  {
   "cell_type": "code",
   "execution_count": null,
   "metadata": {},
   "outputs": [],
   "source": [
    "\n",
    "results_2, _ = cell_2_model.simulateWithBioscrape(timepoints)\n",
    "\n",
    "VirE2_b_id2 = cell_2_model.getSpeciesByName('VirE2_b', compartment = 'cell_2_internal').getId()\n",
    "ssDNA_e_id2 = cell_2_model.getSpeciesByName('ssDNA_e', compartment = 'cell_2_external').getId()\n",
    "ssDNA_id2 = cell_2_model.getSpeciesByName('ssDNA', compartment = 'cell_2_internal').getId()\n",
    "VirE2_b_ssDNA_id2 = cell_2_model.getSpeciesByName('VirE2_b_ssDNA', compartment = 'cell_2_internal').getId()\n",
    "ATP_id2 = cell_2_model.getSpeciesByName('ATP', compartment = 'cell_2_internal').getId()\n",
    "rna_id2 = cell_2_model.getSpeciesByName('rna_g', compartment = 'cell_2_internal').getId()\n",
    "\n",
    "\n",
    "\n",
    "plt.figure(figsize=(12,6))\n",
    "\n",
    "plt.plot(timepoints, results_2[VirE2_b_id2], linewidth = 3, label = 'VirE2_b_2')\n",
    "plt.plot(timepoints, results_2[ssDNA_e_id2], linewidth =2, label = 'ssDNA_e_2')\n",
    "plt.plot(timepoints, results_2[ATP_id2], 'brown', linewidth = 4, label = 'ATP_2')\n",
    "plt.plot(timepoints, results_2[VirE2_b_ssDNA_id2], linewidth = 3, label = 'ssDNA_bound_2')\n",
    "plt.plot(timepoints, results_2[ssDNA_id2], linewidth = 3, label = 'ssDNA_i_2')\n",
    "#plt.plot(timepoints, results_2[rna_id2], linewidth = 3, label = 'rna')\n",
    "\n",
    "\n",
    "#plt.title(\"ATP conc: model 2=5\")\n",
    "#plt.xlabel('Time')\n",
    "#plt.ylabel('Conc')\n",
    "#plt.legend()\n",
    "#plt.show()"
   ]
  },
  {
   "cell_type": "markdown",
   "metadata": {},
   "source": [
    "# Comparison Plot"
   ]
  },
  {
   "cell_type": "code",
   "execution_count": null,
   "metadata": {},
   "outputs": [],
   "source": [
    "plt.figure(figsize=(12,6))\n",
    "plt.plot(timepoints, results_1[VirE2_b_id1], linewidth = 3, label = 'VirE2_b_1')\n",
    "plt.plot(timepoints, results_1[ssDNA_e_id1], 'red', linewidth = 4, label = 'ssDNA_e_1')\n",
    "plt.plot(timepoints, results_1[ATP_id1], linewidth = 4, label = 'ATP_1')\n",
    "#plt.plot(timepoints, results_1[VirE2_b_ssDNA_id1], linewidth = 3, label = 'ssDNA_bound_1')\n",
    "#plt.plot(timepoints, results_1[ssDNA_id1], linewidth = 3, label = 'ssDNA_i_1')\n",
    "\n",
    "plt.plot(timepoints, results_2[VirE2_b_id2], linewidth = 4, label = 'VirE2_b_2')\n",
    "plt.plot(timepoints, results_2[ssDNA_e_id2], 'cyan', linewidth =3, label = 'ssDNA_e_2')\n",
    "plt.plot(timepoints, results_2[ATP_id2], 'brown', linewidth = 4, label = 'ATP_2')\n",
    "#plt.plot(timepoints, results_2[VirE2_b_ssDNA_id2], linewidth = 3, label = 'ssDNA_bound_2')\n",
    "#plt.plot(timepoints, results_2[ssDNA_id2], linewidth = 3, label = 'ssDNA_i_2')\n",
    "\n",
    "plt.title(\"ATP_0 conc=25, model_1=Rheostat, model_2= without Rheostat\")\n",
    "plt.xlabel('Time')\n",
    "plt.ylabel('Conc')\n",
    "plt.legend()\n",
    "plt.show()"
   ]
  },
  {
   "cell_type": "code",
   "execution_count": null,
   "metadata": {},
   "outputs": [],
   "source": []
  },
  {
   "cell_type": "code",
   "execution_count": null,
   "metadata": {},
   "outputs": [],
   "source": []
  }
 ],
 "metadata": {
  "kernelspec": {
   "display_name": "Python 3 (ipykernel)",
   "language": "python",
   "name": "python3"
  },
  "language_info": {
   "codemirror_mode": {
    "name": "ipython",
    "version": 3
   },
   "file_extension": ".py",
   "mimetype": "text/x-python",
   "name": "python",
   "nbconvert_exporter": "python",
   "pygments_lexer": "ipython3",
   "version": "3.9.15"
  }
 },
 "nbformat": 4,
 "nbformat_minor": 4
}
